{
 "cells": [
  {
   "cell_type": "markdown",
   "metadata": {
    "_cell_guid": "f32b4bb9-8c9e-4c30-856d-8bef43fce488",
    "_kg_hide-output": false,
    "_uuid": "d15cee3ba1ff6caae0f85bc8c41fec6fa2168a3a"
   },
   "source": [
    "# Predictive analysis of Bank Marketing\n",
    "\n",
    "#### Problem Statement\n",
    "The data is related with direct marketing campaigns of a Portuguese banking institution. The marketing campaigns were based on phone calls. Often, more than one contact to the same client was required, in order to access if the product (bank term deposit) would be ('yes') or not ('no') subscribed. \n",
    "\n",
    "#### What to achieve?\n",
    "The classification goal is to predict if the client will subscribe a term deposit (variable y).\n",
    "\n",
    "#### Data Contains information in following format:\n",
    "\n",
    "### Categorical Variable :\n",
    "\n",
    "* Marital - (Married , Single , Divorced)\",\n",
    "* Job - (Management,BlueCollar,Technician,entrepreneur,retired,admin.,services,selfemployed,housemaid,student,unemployed,unknown)\n",
    "* Contact - (Telephone,Cellular,Unknown)\n",
    "* Education - (Primary,Secondary,Tertiary,Unknown)\n",
    "* Month - (Jan,Feb,Mar,Apr,May,Jun,Jul,Aug,Sep,Oct,Nov,Dec)\n",
    "* Poutcome - (Success,Failure,Other,Unknown)\n",
    "* Housing - (Yes/No)\n",
    "* Loan - (Yes/No)\n",
    "* Default - (Yes/No)\n",
    "\n",
    "### Numerical Variable:\n",
    "\n",
    "* Age\n",
    "* Balance\n",
    "* Day\n",
    "* Duration\n",
    "* Campaign\n",
    "* Pdays\n",
    "* Previous\n",
    "\n",
    "#### Class\n",
    "* deposit - (Yes/No)"
   ]
  },
  {
   "cell_type": "code",
   "execution_count": 1,
   "metadata": {
    "_cell_guid": "e07b0e5d-63ee-4636-be79-3767d8b7d5d8",
    "_uuid": "7748fe49780a9fc1e17197e410fc624e9c465a1f",
    "jupyter": {
     "outputs_hidden": true
    }
   },
   "outputs": [],
   "source": [
    "#Importing required libraries\n",
    "import pandas as pd\n",
    "import numpy as np\n",
    "# from sklearn.cross_validation import train_test_split\n",
    "from sklearn.model_selection import train_test_split\n",
    "from sklearn import metrics\n",
    "import statsmodels.formula.api as smf\n",
    "from sklearn import preprocessing\n",
    "from sklearn.preprocessing import LabelEncoder\n",
    "\n",
    "# visualization\n",
    "import seaborn as sns\n",
    "import matplotlib.pyplot as plt\n",
    "%matplotlib inline\n",
    "\n",
    "#creating HDR slices\n",
    "from sklearn.neighbors import KernelDensity\n",
    "import arviz as az\n",
    "from sklearn import metrics\n",
    "\n",
    "# data synthesizing\n",
    "from collections import Counter\n",
    "from ctgan import CTGANSynthesizer\n",
    "from ctgan import load_demo"
   ]
  },
  {
   "cell_type": "markdown",
   "metadata": {},
   "source": [
    "## Hyper-parameters"
   ]
  },
  {
   "cell_type": "code",
   "execution_count": 2,
   "metadata": {},
   "outputs": [],
   "source": [
    "# splitting dataset\n",
    "val_size = .15\n",
    "test_size = .15\n",
    "train_size = 1 - val_size - test_size\n",
    "\n",
    "# creating hdr slices with kde\n",
    "bw=.35 # bandwith\n",
    "cf=-3 # cuttoff\n",
    "\n",
    "# importance of slices\n",
    "sig = .02\n",
    "min_support = .05\n",
    "\n",
    "# synthesizing data with ADASYN\n",
    "gen_p = .5\n",
    "num_problem_slices = 10"
   ]
  },
  {
   "cell_type": "markdown",
   "metadata": {},
   "source": [
    "## Exploring dataset"
   ]
  },
  {
   "cell_type": "code",
   "execution_count": 3,
   "metadata": {
    "_cell_guid": "0eced814-95e3-4354-99c4-507f2ef52e33",
    "_uuid": "8f5bea0b6e74bcb66846a5db827324e97e42f768",
    "jupyter": {
     "outputs_hidden": true
    }
   },
   "outputs": [
    {
     "data": {
      "text/html": [
       "<div>\n",
       "<style scoped>\n",
       "    .dataframe tbody tr th:only-of-type {\n",
       "        vertical-align: middle;\n",
       "    }\n",
       "\n",
       "    .dataframe tbody tr th {\n",
       "        vertical-align: top;\n",
       "    }\n",
       "\n",
       "    .dataframe thead th {\n",
       "        text-align: right;\n",
       "    }\n",
       "</style>\n",
       "<table border=\"1\" class=\"dataframe\">\n",
       "  <thead>\n",
       "    <tr style=\"text-align: right;\">\n",
       "      <th></th>\n",
       "      <th>age</th>\n",
       "      <th>job</th>\n",
       "      <th>marital</th>\n",
       "      <th>education</th>\n",
       "      <th>default</th>\n",
       "      <th>balance</th>\n",
       "      <th>housing</th>\n",
       "      <th>loan</th>\n",
       "      <th>contact</th>\n",
       "      <th>day</th>\n",
       "      <th>month</th>\n",
       "      <th>duration</th>\n",
       "      <th>campaign</th>\n",
       "      <th>pdays</th>\n",
       "      <th>previous</th>\n",
       "      <th>poutcome</th>\n",
       "      <th>y</th>\n",
       "    </tr>\n",
       "  </thead>\n",
       "  <tbody>\n",
       "    <tr>\n",
       "      <th>0</th>\n",
       "      <td>58</td>\n",
       "      <td>management</td>\n",
       "      <td>married</td>\n",
       "      <td>tertiary</td>\n",
       "      <td>no</td>\n",
       "      <td>2143</td>\n",
       "      <td>yes</td>\n",
       "      <td>no</td>\n",
       "      <td>unknown</td>\n",
       "      <td>5</td>\n",
       "      <td>may</td>\n",
       "      <td>261</td>\n",
       "      <td>1</td>\n",
       "      <td>-1</td>\n",
       "      <td>0</td>\n",
       "      <td>unknown</td>\n",
       "      <td>no</td>\n",
       "    </tr>\n",
       "    <tr>\n",
       "      <th>1</th>\n",
       "      <td>44</td>\n",
       "      <td>technician</td>\n",
       "      <td>single</td>\n",
       "      <td>secondary</td>\n",
       "      <td>no</td>\n",
       "      <td>29</td>\n",
       "      <td>yes</td>\n",
       "      <td>no</td>\n",
       "      <td>unknown</td>\n",
       "      <td>5</td>\n",
       "      <td>may</td>\n",
       "      <td>151</td>\n",
       "      <td>1</td>\n",
       "      <td>-1</td>\n",
       "      <td>0</td>\n",
       "      <td>unknown</td>\n",
       "      <td>no</td>\n",
       "    </tr>\n",
       "    <tr>\n",
       "      <th>2</th>\n",
       "      <td>33</td>\n",
       "      <td>entrepreneur</td>\n",
       "      <td>married</td>\n",
       "      <td>secondary</td>\n",
       "      <td>no</td>\n",
       "      <td>2</td>\n",
       "      <td>yes</td>\n",
       "      <td>yes</td>\n",
       "      <td>unknown</td>\n",
       "      <td>5</td>\n",
       "      <td>may</td>\n",
       "      <td>76</td>\n",
       "      <td>1</td>\n",
       "      <td>-1</td>\n",
       "      <td>0</td>\n",
       "      <td>unknown</td>\n",
       "      <td>no</td>\n",
       "    </tr>\n",
       "    <tr>\n",
       "      <th>3</th>\n",
       "      <td>47</td>\n",
       "      <td>blue-collar</td>\n",
       "      <td>married</td>\n",
       "      <td>unknown</td>\n",
       "      <td>no</td>\n",
       "      <td>1506</td>\n",
       "      <td>yes</td>\n",
       "      <td>no</td>\n",
       "      <td>unknown</td>\n",
       "      <td>5</td>\n",
       "      <td>may</td>\n",
       "      <td>92</td>\n",
       "      <td>1</td>\n",
       "      <td>-1</td>\n",
       "      <td>0</td>\n",
       "      <td>unknown</td>\n",
       "      <td>no</td>\n",
       "    </tr>\n",
       "    <tr>\n",
       "      <th>4</th>\n",
       "      <td>33</td>\n",
       "      <td>unknown</td>\n",
       "      <td>single</td>\n",
       "      <td>unknown</td>\n",
       "      <td>no</td>\n",
       "      <td>1</td>\n",
       "      <td>no</td>\n",
       "      <td>no</td>\n",
       "      <td>unknown</td>\n",
       "      <td>5</td>\n",
       "      <td>may</td>\n",
       "      <td>198</td>\n",
       "      <td>1</td>\n",
       "      <td>-1</td>\n",
       "      <td>0</td>\n",
       "      <td>unknown</td>\n",
       "      <td>no</td>\n",
       "    </tr>\n",
       "  </tbody>\n",
       "</table>\n",
       "</div>"
      ],
      "text/plain": [
       "   age           job  marital  education default  balance housing loan  \\\n",
       "0   58    management  married   tertiary      no     2143     yes   no   \n",
       "1   44    technician   single  secondary      no       29     yes   no   \n",
       "2   33  entrepreneur  married  secondary      no        2     yes  yes   \n",
       "3   47   blue-collar  married    unknown      no     1506     yes   no   \n",
       "4   33       unknown   single    unknown      no        1      no   no   \n",
       "\n",
       "   contact  day month  duration  campaign  pdays  previous poutcome   y  \n",
       "0  unknown    5   may       261         1     -1         0  unknown  no  \n",
       "1  unknown    5   may       151         1     -1         0  unknown  no  \n",
       "2  unknown    5   may        76         1     -1         0  unknown  no  \n",
       "3  unknown    5   may        92         1     -1         0  unknown  no  \n",
       "4  unknown    5   may       198         1     -1         0  unknown  no  "
      ]
     },
     "execution_count": 3,
     "metadata": {},
     "output_type": "execute_result"
    }
   ],
   "source": [
    "#Importing and displaying data\n",
    "data = pd.read_csv(\"bank-full.csv\", delimiter=\";\",header='infer')\n",
    "data.head()"
   ]
  },
  {
   "cell_type": "code",
   "execution_count": 4,
   "metadata": {
    "_cell_guid": "f5e5d486-131d-48fa-9892-6ec2f7c0de57",
    "_uuid": "1b4b93ee4ed64ae30c7f9ba5b3c830860ade7e28",
    "jupyter": {
     "outputs_hidden": true
    }
   },
   "outputs": [
    {
     "data": {
      "text/plain": [
       "(45211, 17)"
      ]
     },
     "execution_count": 4,
     "metadata": {},
     "output_type": "execute_result"
    }
   ],
   "source": [
    "#4521 rows and 17 features\n",
    "data.shape"
   ]
  },
  {
   "cell_type": "code",
   "execution_count": 5,
   "metadata": {
    "_cell_guid": "7b278803-36f3-4d24-aa5c-1d23909d60bb",
    "_uuid": "4abd9624232834f8922d505a55205f4eb163ae55",
    "jupyter": {
     "outputs_hidden": true
    },
    "scrolled": true
   },
   "outputs": [
    {
     "data": {
      "text/plain": [
       "age           int64\n",
       "job          object\n",
       "marital      object\n",
       "education    object\n",
       "default      object\n",
       "balance       int64\n",
       "housing      object\n",
       "loan         object\n",
       "contact      object\n",
       "day           int64\n",
       "month        object\n",
       "duration      int64\n",
       "campaign      int64\n",
       "pdays         int64\n",
       "previous      int64\n",
       "poutcome     object\n",
       "y            object\n",
       "dtype: object"
      ]
     },
     "execution_count": 5,
     "metadata": {},
     "output_type": "execute_result"
    }
   ],
   "source": [
    "#datatypes of the columns\n",
    "data.dtypes"
   ]
  },
  {
   "cell_type": "code",
   "execution_count": 6,
   "metadata": {
    "_cell_guid": "d1db9d1e-0f02-45df-8ccf-1777088a498e",
    "_uuid": "dcec32461edf58b91ebe5fa3eb868b2e398f9512",
    "jupyter": {
     "outputs_hidden": true
    }
   },
   "outputs": [],
   "source": [
    "#Since y is a class variable we will have to convert it into binary format. (Since 2 unique class values)\n",
    "data.y.replace(('yes', 'no'), (1, 0), inplace=True)"
   ]
  },
  {
   "cell_type": "code",
   "execution_count": 7,
   "metadata": {
    "_cell_guid": "66e6900b-da6c-4d55-ae82-07bbd1dfc6a2",
    "_uuid": "b93c7aeb139100cd042321bb5b19f8dc22e2e3eb",
    "jupyter": {
     "outputs_hidden": true
    }
   },
   "outputs": [
    {
     "name": "stdout",
     "output_type": "stream",
     "text": [
      "Index(['age', 'job', 'marital', 'education', 'default', 'balance', 'housing',\n",
      "       'loan', 'contact', 'day', 'month', 'duration', 'campaign', 'pdays',\n",
      "       'previous', 'poutcome'],\n",
      "      dtype='object')\n",
      "Index(['y'], dtype='object')\n"
     ]
    }
   ],
   "source": [
    "#Spliting data as X -> features and y -> class variable\n",
    "data_y = pd.DataFrame(data['y'])\n",
    "data_X = data.drop(['y'], axis=1)\n",
    "print(data_X.columns)\n",
    "print(data_y.columns)"
   ]
  },
  {
   "cell_type": "markdown",
   "metadata": {},
   "source": [
    "## Spliting and manipulating datasets"
   ]
  },
  {
   "cell_type": "code",
   "execution_count": 8,
   "metadata": {
    "_cell_guid": "9357bf56-b060-4bc5-b6c4-9621c5e67aa9",
    "_uuid": "8b89744428ffe07a3476a65245bbadf8b8ca1dc4",
    "jupyter": {
     "outputs_hidden": true
    }
   },
   "outputs": [
    {
     "name": "stdout",
     "output_type": "stream",
     "text": [
      "(31647, 16)\n",
      "(6782, 16)\n",
      "(6782, 16)\n",
      "(31647, 1)\n",
      "(6782, 1)\n",
      "(6782, 1)\n"
     ]
    }
   ],
   "source": [
    "#Dividing records in training validation and testing sets along with its shape (rows, cols)\n",
    "X_train, X_test_raw, y_train, y_test = \\\n",
    "train_test_split(data_X, data_y, test_size=test_size, random_state=2, stratify=data_y)\n",
    "\n",
    "X_train_raw, X_val_raw, y_train, y_val = \\\n",
    "train_test_split(X_train, y_train, test_size=val_size/(val_size+train_size), random_state=2, stratify=y_train)\n",
    "\n",
    "print (X_train_raw.shape)\n",
    "print(X_val_raw.shape)\n",
    "print (X_test_raw.shape)\n",
    "\n",
    "print (y_train.shape)\n",
    "print(y_val.shape)\n",
    "print (y_test.shape)"
   ]
  },
  {
   "cell_type": "markdown",
   "metadata": {
    "_cell_guid": "9a9917e0-8ff4-45d7-a5b7-426964c9ccc8",
    "_uuid": "902709dfbfc1a27bf26d46f6f96dc6f75d36ef51"
   },
   "source": [
    "Since the dtype contains types other than int, float; we need to convert those column values into proper format in order to fit the data in model."
   ]
  },
  {
   "cell_type": "code",
   "execution_count": 9,
   "metadata": {},
   "outputs": [
    {
     "data": {
      "text/plain": [
       "['job',\n",
       " 'marital',\n",
       " 'education',\n",
       " 'default',\n",
       " 'housing',\n",
       " 'loan',\n",
       " 'contact',\n",
       " 'month',\n",
       " 'poutcome']"
      ]
     },
     "execution_count": 9,
     "metadata": {},
     "output_type": "execute_result"
    }
   ],
   "source": [
    "cat_feats = []\n",
    "for i, col in enumerate(data.dtypes):\n",
    "    if np.issubdtype(col, np.integer) == False and np.issubdtype(col, np.floating) == False:\n",
    "        if data.columns[i] == 'y':\n",
    "            pass\n",
    "        else:\n",
    "            cat_feats.append(data.columns[i])\n",
    "\n",
    "cat_feats"
   ]
  },
  {
   "cell_type": "code",
   "execution_count": 10,
   "metadata": {
    "_cell_guid": "227355cc-b93c-4a8c-8e27-2c43d9ae88f2",
    "_uuid": "899975d140ce2dc06842ae0b5067e79e1120e533",
    "jupyter": {
     "outputs_hidden": true
    }
   },
   "outputs": [],
   "source": [
    "#Converting object type data into numeric type using One-Hot encoding method which is\n",
    "#majorly used for XGBoost (for better accuracy) [Applicable only for non numeric categorical features]\n",
    "X_train = pd.get_dummies(X_train_raw, columns=cat_feats)\n",
    "X_val = pd.get_dummies(X_val_raw, columns=cat_feats)\n",
    "X_test = pd.get_dummies(X_test_raw, columns=cat_feats)\n",
    "#pd is instance of pandas. Using get_dummies method we can directly convert any type of data into One-Hot encoded format."
   ]
  },
  {
   "cell_type": "code",
   "execution_count": 11,
   "metadata": {
    "_cell_guid": "ed9363d8-1cb5-422a-9dc2-01f1422b3e52",
    "_uuid": "9cb4350ffa3689dc9e47c6bd1dcdb82afd666e31",
    "jupyter": {
     "outputs_hidden": true
    }
   },
   "outputs": [
    {
     "data": {
      "text/plain": [
       "age                    int64\n",
       "balance                int64\n",
       "day                    int64\n",
       "duration               int64\n",
       "campaign               int64\n",
       "pdays                  int64\n",
       "previous               int64\n",
       "job_admin.             uint8\n",
       "job_blue-collar        uint8\n",
       "job_entrepreneur       uint8\n",
       "job_housemaid          uint8\n",
       "job_management         uint8\n",
       "job_retired            uint8\n",
       "job_self-employed      uint8\n",
       "job_services           uint8\n",
       "job_student            uint8\n",
       "job_technician         uint8\n",
       "job_unemployed         uint8\n",
       "job_unknown            uint8\n",
       "marital_divorced       uint8\n",
       "marital_married        uint8\n",
       "marital_single         uint8\n",
       "education_primary      uint8\n",
       "education_secondary    uint8\n",
       "education_tertiary     uint8\n",
       "education_unknown      uint8\n",
       "default_no             uint8\n",
       "default_yes            uint8\n",
       "housing_no             uint8\n",
       "housing_yes            uint8\n",
       "loan_no                uint8\n",
       "loan_yes               uint8\n",
       "contact_cellular       uint8\n",
       "contact_telephone      uint8\n",
       "contact_unknown        uint8\n",
       "month_apr              uint8\n",
       "month_aug              uint8\n",
       "month_dec              uint8\n",
       "month_feb              uint8\n",
       "month_jan              uint8\n",
       "month_jul              uint8\n",
       "month_jun              uint8\n",
       "month_mar              uint8\n",
       "month_may              uint8\n",
       "month_nov              uint8\n",
       "month_oct              uint8\n",
       "month_sep              uint8\n",
       "poutcome_failure       uint8\n",
       "poutcome_other         uint8\n",
       "poutcome_success       uint8\n",
       "poutcome_unknown       uint8\n",
       "dtype: object"
      ]
     },
     "execution_count": 11,
     "metadata": {},
     "output_type": "execute_result"
    }
   ],
   "source": [
    "#Checking types of all the columns converted\n",
    "X_train.dtypes"
   ]
  },
  {
   "cell_type": "code",
   "execution_count": 12,
   "metadata": {
    "_cell_guid": "5770e9a7-2bda-4992-9659-89af4796c384",
    "_uuid": "15f82e3d8f24aadf8dc977999ff12b84d44a8ce2",
    "jupyter": {
     "outputs_hidden": true
    }
   },
   "outputs": [
    {
     "data": {
      "text/html": [
       "<div>\n",
       "<style scoped>\n",
       "    .dataframe tbody tr th:only-of-type {\n",
       "        vertical-align: middle;\n",
       "    }\n",
       "\n",
       "    .dataframe tbody tr th {\n",
       "        vertical-align: top;\n",
       "    }\n",
       "\n",
       "    .dataframe thead th {\n",
       "        text-align: right;\n",
       "    }\n",
       "</style>\n",
       "<table border=\"1\" class=\"dataframe\">\n",
       "  <thead>\n",
       "    <tr style=\"text-align: right;\">\n",
       "      <th></th>\n",
       "      <th>age</th>\n",
       "      <th>balance</th>\n",
       "      <th>day</th>\n",
       "      <th>duration</th>\n",
       "      <th>campaign</th>\n",
       "      <th>pdays</th>\n",
       "      <th>previous</th>\n",
       "      <th>job_admin.</th>\n",
       "      <th>job_blue-collar</th>\n",
       "      <th>job_entrepreneur</th>\n",
       "      <th>...</th>\n",
       "      <th>month_jun</th>\n",
       "      <th>month_mar</th>\n",
       "      <th>month_may</th>\n",
       "      <th>month_nov</th>\n",
       "      <th>month_oct</th>\n",
       "      <th>month_sep</th>\n",
       "      <th>poutcome_failure</th>\n",
       "      <th>poutcome_other</th>\n",
       "      <th>poutcome_success</th>\n",
       "      <th>poutcome_unknown</th>\n",
       "    </tr>\n",
       "  </thead>\n",
       "  <tbody>\n",
       "    <tr>\n",
       "      <th>34975</th>\n",
       "      <td>37</td>\n",
       "      <td>1517</td>\n",
       "      <td>6</td>\n",
       "      <td>60</td>\n",
       "      <td>1</td>\n",
       "      <td>-1</td>\n",
       "      <td>0</td>\n",
       "      <td>0</td>\n",
       "      <td>0</td>\n",
       "      <td>0</td>\n",
       "      <td>...</td>\n",
       "      <td>0</td>\n",
       "      <td>0</td>\n",
       "      <td>1</td>\n",
       "      <td>0</td>\n",
       "      <td>0</td>\n",
       "      <td>0</td>\n",
       "      <td>0</td>\n",
       "      <td>0</td>\n",
       "      <td>0</td>\n",
       "      <td>1</td>\n",
       "    </tr>\n",
       "    <tr>\n",
       "      <th>42984</th>\n",
       "      <td>70</td>\n",
       "      <td>579</td>\n",
       "      <td>11</td>\n",
       "      <td>82</td>\n",
       "      <td>2</td>\n",
       "      <td>181</td>\n",
       "      <td>1</td>\n",
       "      <td>0</td>\n",
       "      <td>0</td>\n",
       "      <td>0</td>\n",
       "      <td>...</td>\n",
       "      <td>0</td>\n",
       "      <td>0</td>\n",
       "      <td>0</td>\n",
       "      <td>0</td>\n",
       "      <td>0</td>\n",
       "      <td>0</td>\n",
       "      <td>1</td>\n",
       "      <td>0</td>\n",
       "      <td>0</td>\n",
       "      <td>0</td>\n",
       "    </tr>\n",
       "    <tr>\n",
       "      <th>12630</th>\n",
       "      <td>40</td>\n",
       "      <td>13</td>\n",
       "      <td>4</td>\n",
       "      <td>178</td>\n",
       "      <td>1</td>\n",
       "      <td>-1</td>\n",
       "      <td>0</td>\n",
       "      <td>0</td>\n",
       "      <td>1</td>\n",
       "      <td>0</td>\n",
       "      <td>...</td>\n",
       "      <td>0</td>\n",
       "      <td>0</td>\n",
       "      <td>0</td>\n",
       "      <td>0</td>\n",
       "      <td>0</td>\n",
       "      <td>0</td>\n",
       "      <td>0</td>\n",
       "      <td>0</td>\n",
       "      <td>0</td>\n",
       "      <td>1</td>\n",
       "    </tr>\n",
       "    <tr>\n",
       "      <th>6120</th>\n",
       "      <td>55</td>\n",
       "      <td>150</td>\n",
       "      <td>27</td>\n",
       "      <td>285</td>\n",
       "      <td>1</td>\n",
       "      <td>-1</td>\n",
       "      <td>0</td>\n",
       "      <td>0</td>\n",
       "      <td>0</td>\n",
       "      <td>0</td>\n",
       "      <td>...</td>\n",
       "      <td>0</td>\n",
       "      <td>0</td>\n",
       "      <td>1</td>\n",
       "      <td>0</td>\n",
       "      <td>0</td>\n",
       "      <td>0</td>\n",
       "      <td>0</td>\n",
       "      <td>0</td>\n",
       "      <td>0</td>\n",
       "      <td>1</td>\n",
       "    </tr>\n",
       "    <tr>\n",
       "      <th>15077</th>\n",
       "      <td>43</td>\n",
       "      <td>833</td>\n",
       "      <td>17</td>\n",
       "      <td>156</td>\n",
       "      <td>1</td>\n",
       "      <td>-1</td>\n",
       "      <td>0</td>\n",
       "      <td>0</td>\n",
       "      <td>1</td>\n",
       "      <td>0</td>\n",
       "      <td>...</td>\n",
       "      <td>0</td>\n",
       "      <td>0</td>\n",
       "      <td>0</td>\n",
       "      <td>0</td>\n",
       "      <td>0</td>\n",
       "      <td>0</td>\n",
       "      <td>0</td>\n",
       "      <td>0</td>\n",
       "      <td>0</td>\n",
       "      <td>1</td>\n",
       "    </tr>\n",
       "  </tbody>\n",
       "</table>\n",
       "<p>5 rows × 51 columns</p>\n",
       "</div>"
      ],
      "text/plain": [
       "       age  balance  day  duration  campaign  pdays  previous  job_admin.  \\\n",
       "34975   37     1517    6        60         1     -1         0           0   \n",
       "42984   70      579   11        82         2    181         1           0   \n",
       "12630   40       13    4       178         1     -1         0           0   \n",
       "6120    55      150   27       285         1     -1         0           0   \n",
       "15077   43      833   17       156         1     -1         0           0   \n",
       "\n",
       "       job_blue-collar  job_entrepreneur  ...  month_jun  month_mar  \\\n",
       "34975                0                 0  ...          0          0   \n",
       "42984                0                 0  ...          0          0   \n",
       "12630                1                 0  ...          0          0   \n",
       "6120                 0                 0  ...          0          0   \n",
       "15077                1                 0  ...          0          0   \n",
       "\n",
       "       month_may  month_nov  month_oct  month_sep  poutcome_failure  \\\n",
       "34975          1          0          0          0                 0   \n",
       "42984          0          0          0          0                 1   \n",
       "12630          0          0          0          0                 0   \n",
       "6120           1          0          0          0                 0   \n",
       "15077          0          0          0          0                 0   \n",
       "\n",
       "       poutcome_other  poutcome_success  poutcome_unknown  \n",
       "34975               0                 0                 1  \n",
       "42984               0                 0                 0  \n",
       "12630               0                 0                 1  \n",
       "6120                0                 0                 1  \n",
       "15077               0                 0                 1  \n",
       "\n",
       "[5 rows x 51 columns]"
      ]
     },
     "execution_count": 12,
     "metadata": {},
     "output_type": "execute_result"
    }
   ],
   "source": [
    "#Our New dataframe ready for XGBoost\n",
    "X_train.head()"
   ]
  },
  {
   "cell_type": "markdown",
   "metadata": {},
   "source": [
    "## Regular Training"
   ]
  },
  {
   "cell_type": "code",
   "execution_count": 13,
   "metadata": {
    "_cell_guid": "ffe03d50-e066-4b9b-ac42-5c13ec864c05",
    "_uuid": "662f0acfaf2119b82cfbfcfae6ca9938a6b36bd5",
    "jupyter": {
     "outputs_hidden": true
    }
   },
   "outputs": [
    {
     "data": {
      "text/plain": [
       "XGBClassifier(base_score=None, booster=None, colsample_bylevel=None,\n",
       "              colsample_bynode=None, colsample_bytree=None,\n",
       "              enable_categorical=False, gamma=None, gpu_id=None,\n",
       "              importance_type=None, interaction_constraints=None,\n",
       "              learning_rate=None, max_delta_step=None, max_depth=None,\n",
       "              min_child_weight=None, missing=nan, monotone_constraints=None,\n",
       "              n_estimators=100, n_jobs=None, num_parallel_tree=None,\n",
       "              predictor=None, random_state=None, reg_alpha=None,\n",
       "              reg_lambda=None, scale_pos_weight=None, subsample=None,\n",
       "              tree_method=None, validate_parameters=None, verbosity=None)"
      ]
     },
     "execution_count": 13,
     "metadata": {},
     "output_type": "execute_result"
    }
   ],
   "source": [
    "#Create an XGB classifier and train it on 70% of the data set.\n",
    "from sklearn import svm\n",
    "from xgboost import XGBClassifier\n",
    "clf = XGBClassifier()\n",
    "clf"
   ]
  },
  {
   "cell_type": "code",
   "execution_count": 14,
   "metadata": {
    "_cell_guid": "7439792a-141f-44e9-b7d1-25b6b965d0ce",
    "_kg_hide-output": true,
    "_uuid": "929529f5b109739fb3445e2321c65ecab972f63d",
    "jupyter": {
     "outputs_hidden": true
    }
   },
   "outputs": [
    {
     "name": "stderr",
     "output_type": "stream",
     "text": [
      "c:\\users\\ziv\\appdata\\local\\programs\\python\\python38\\lib\\site-packages\\xgboost\\sklearn.py:1224: UserWarning: The use of label encoder in XGBClassifier is deprecated and will be removed in a future release. To remove this warning, do the following: 1) Pass option use_label_encoder=False when constructing XGBClassifier object; and 2) Encode your labels (y) as integers starting with 0, i.e. 0, 1, 2, ..., [num_class - 1].\n",
      "  warnings.warn(label_encoder_deprecation_msg, UserWarning)\n",
      "c:\\users\\ziv\\appdata\\local\\programs\\python\\python38\\lib\\site-packages\\sklearn\\utils\\validation.py:63: DataConversionWarning: A column-vector y was passed when a 1d array was expected. Please change the shape of y to (n_samples, ), for example using ravel().\n",
      "  return f(*args, **kwargs)\n"
     ]
    },
    {
     "name": "stdout",
     "output_type": "stream",
     "text": [
      "[19:16:56] WARNING: C:/Users/Administrator/workspace/xgboost-win64_release_1.5.0/src/learner.cc:1115: Starting in XGBoost 1.3.0, the default evaluation metric used with the objective 'binary:logistic' was changed from 'error' to 'logloss'. Explicitly set eval_metric if you'd like to restore the old behavior.\n"
     ]
    },
    {
     "data": {
      "text/plain": [
       "XGBClassifier(base_score=0.5, booster='gbtree', colsample_bylevel=1,\n",
       "              colsample_bynode=1, colsample_bytree=1, enable_categorical=False,\n",
       "              gamma=0, gpu_id=-1, importance_type=None,\n",
       "              interaction_constraints='', learning_rate=0.300000012,\n",
       "              max_delta_step=0, max_depth=6, min_child_weight=1, missing=nan,\n",
       "              monotone_constraints='()', n_estimators=100, n_jobs=12,\n",
       "              num_parallel_tree=1, predictor='auto', random_state=0,\n",
       "              reg_alpha=0, reg_lambda=1, scale_pos_weight=1, subsample=1,\n",
       "              tree_method='exact', validate_parameters=1, verbosity=None)"
      ]
     },
     "execution_count": 14,
     "metadata": {},
     "output_type": "execute_result"
    }
   ],
   "source": [
    "clf.fit(X_train, y_train)"
   ]
  },
  {
   "cell_type": "code",
   "execution_count": 15,
   "metadata": {
    "_cell_guid": "379f1d28-d06a-4d10-aa97-3515439c37a6",
    "_uuid": "abdafa50b5432322e54deef81296b7297f2d7b4d",
    "jupyter": {
     "outputs_hidden": true
    }
   },
   "outputs": [
    {
     "data": {
      "text/plain": [
       "0.9059274550280153"
      ]
     },
     "execution_count": 15,
     "metadata": {},
     "output_type": "execute_result"
    }
   ],
   "source": [
    "y_pred = clf.predict(X_val)\n",
    "np.array(y_pred).shape\n",
    "np.sum(y_pred.reshape([-1,1]) == np.array(y_val)) / len(y_pred)\n"
   ]
  },
  {
   "cell_type": "code",
   "execution_count": 16,
   "metadata": {
    "_cell_guid": "c9ba165b-84b3-4874-8c74-710bf87f9d56",
    "_uuid": "f2a45a8dfc5b797cc07a27d2b436b4d75dc78028",
    "jupyter": {
     "outputs_hidden": true
    }
   },
   "outputs": [
    {
     "name": "stdout",
     "output_type": "stream",
     "text": [
      "0.9059274550280153\n"
     ]
    }
   ],
   "source": [
    "#classification accuracy\n",
    "from sklearn import metrics\n",
    "print(metrics.accuracy_score(y_val, y_pred))"
   ]
  },
  {
   "cell_type": "markdown",
   "metadata": {},
   "source": [
    "## Training with boost"
   ]
  },
  {
   "cell_type": "markdown",
   "metadata": {
    "_cell_guid": "5c81ed75-ca66-4bd8-ba28-60dc201de8f4",
    "_uuid": "550192047e1958f2806776f2b912101919e551ec"
   },
   "source": [
    "**Using xgb Library**"
   ]
  },
  {
   "cell_type": "code",
   "execution_count": 17,
   "metadata": {
    "_cell_guid": "c817cc96-33e1-433a-94ee-cbdc919868d2",
    "_uuid": "e5f4774380291c9c00f016e953b48be80d4d6031",
    "jupyter": {
     "outputs_hidden": true
    }
   },
   "outputs": [],
   "source": [
    "import xgboost as xgb\n",
    "# X_train, X_test, y_train, y_test = train_test_split(data_X, data_y, test_size=0.3, random_state=2, stratify=data_y)\n",
    "dtrain = xgb.DMatrix(X_train, label=y_train)\n",
    "dtest = xgb.DMatrix(X_val)"
   ]
  },
  {
   "cell_type": "code",
   "execution_count": 18,
   "metadata": {
    "_cell_guid": "c78c5600-5a38-4ce2-9cf2-e621d5d15e2c",
    "_kg_hide-output": true,
    "_uuid": "64b3c3cc31748850b29828224cae61cb91dfe315",
    "jupyter": {
     "outputs_hidden": true
    }
   },
   "outputs": [
    {
     "name": "stdout",
     "output_type": "stream",
     "text": [
      "[(<xgboost.core.DMatrix object at 0x0000016879EDCBE0>, 'train'), (<xgboost.core.DMatrix object at 0x0000016879EDCC10>, 'val')]\n"
     ]
    }
   ],
   "source": [
    "watchlist = [(dtrain, 'train'),(dtest, 'val')]\n",
    "print(watchlist)"
   ]
  },
  {
   "cell_type": "code",
   "execution_count": 19,
   "metadata": {
    "_cell_guid": "ef442c5f-7883-4f27-ad89-0a7c7b52fc44",
    "_uuid": "7c915a4faef7135694a8058edeb3705f12619825",
    "jupyter": {
     "outputs_hidden": true
    }
   },
   "outputs": [],
   "source": [
    "#Train the model\n",
    "params = {\n",
    "    'objective':'multi:softprob',\n",
    "#     'objective':'multi:mlogloss',\n",
    "    'max_dept':4,\n",
    "    'silent':1,\n",
    "    'eta':0.3,\n",
    "    'gamma': 0,\n",
    "    'num_class': 2\n",
    "}\n",
    "num_rounds=20"
   ]
  },
  {
   "cell_type": "code",
   "execution_count": 20,
   "metadata": {
    "_cell_guid": "23e6bcdb-d45b-47e0-8479-e39b88f672a7",
    "_uuid": "08f9bf94b7f4873e2f7aa3831c2aa7772804cc7b",
    "jupyter": {
     "outputs_hidden": true
    }
   },
   "outputs": [
    {
     "name": "stdout",
     "output_type": "stream",
     "text": [
      "[19:16:58] WARNING: C:/Users/Administrator/workspace/xgboost-win64_release_1.5.0/src/learner.cc:576: \n",
      "Parameters: { \"max_dept\", \"silent\" } might not be used.\n",
      "\n",
      "  This could be a false alarm, with some parameters getting used by language bindings but\n",
      "  then being mistakenly passed down to XGBoost core, or some parameter actually being used\n",
      "  but getting flagged wrongly here. Please open an issue if you find any such cases.\n",
      "\n",
      "\n",
      "[19:16:58] WARNING: C:/Users/Administrator/workspace/xgboost-win64_release_1.5.0/src/learner.cc:1115: Starting in XGBoost 1.3.0, the default evaluation metric used with the objective 'multi:softprob' was changed from 'merror' to 'mlogloss'. Explicitly set eval_metric if you'd like to restore the old behavior.\n"
     ]
    }
   ],
   "source": [
    "XGB_Model = xgb.train(params,dtrain,num_rounds)"
   ]
  },
  {
   "cell_type": "code",
   "execution_count": 21,
   "metadata": {
    "_cell_guid": "b21e243a-b3b8-48e0-b33d-d62d931123df",
    "_uuid": "91ac4f37875cd2c91dbfef6a39eb703dd3744798",
    "jupyter": {
     "outputs_hidden": true
    }
   },
   "outputs": [],
   "source": [
    "XGB_Model.dump_model('dump.rawBank.txt')"
   ]
  },
  {
   "cell_type": "code",
   "execution_count": 22,
   "metadata": {
    "_cell_guid": "f5ff8e0e-1d50-45d3-afe6-bf47a8bbfb98",
    "_uuid": "8acab998e69778821489a4679652a0436da5566c",
    "jupyter": {
     "outputs_hidden": true
    }
   },
   "outputs": [
    {
     "data": {
      "text/plain": [
       "0.9038631672073135"
      ]
     },
     "execution_count": 22,
     "metadata": {},
     "output_type": "execute_result"
    }
   ],
   "source": [
    "y_predict = XGB_Model.predict(dtest)\n",
    "\n",
    "y_predict_assignment = np.argmax(y_predict, 1).reshape([-1,1])\n",
    "test_acc = np.sum(y_predict_assignment == np.array(y_val)) / len(y_predict)\n",
    "test_acc"
   ]
  },
  {
   "cell_type": "code",
   "execution_count": 23,
   "metadata": {
    "_cell_guid": "5e12b7bb-d953-4582-89b6-64653a1bb350",
    "_uuid": "1e95ab24e7fb43442963eaaaf0acb03f4b8e02a9",
    "jupyter": {
     "outputs_hidden": true
    }
   },
   "outputs": [
    {
     "data": {
      "image/png": "[encoded data removed]",
      "text/plain": [
       "<Figure size 432x288 with 1 Axes>"
      ]
     },
     "metadata": {
      "needs_background": "light"
     },
     "output_type": "display_data"
    }
   ],
   "source": [
    "from xgboost import plot_importance\n",
    "from matplotlib import pyplot\n",
    "plot_importance(XGB_Model)\n",
    "pyplot.show()"
   ]
  },
  {
   "cell_type": "markdown",
   "metadata": {},
   "source": [
    "# Improving Boosted Model"
   ]
  },
  {
   "cell_type": "markdown",
   "metadata": {},
   "source": [
    "## Creating HDR Slices"
   ]
  },
  {
   "cell_type": "code",
   "execution_count": 24,
   "metadata": {},
   "outputs": [],
   "source": [
    "def f1(TP,TN,FP,FN):\n",
    "    return TP/(TP+0.5*(FN+FP)) \n",
    "\n",
    "def recall(TP,TN,FP,FN):\n",
    "    return TP/(TP+FN) \n",
    "\n",
    "def precision(TP,TN,FP,FN):\n",
    "    return TP/(TP+FP) \n",
    "\n",
    "def f_beta(TP,TN,FP,FN, beta):\n",
    "    return ((1+beta*beta)*TP)/((1+beta*beta)*TP+beta*beta*FN+0.5*FP) \n",
    "\n",
    "def f_half(TP,TN,FP,FN):\n",
    "    return f_beta(TP,TN,FP,FN,0.5)"
   ]
  },
  {
   "cell_type": "code",
   "execution_count": 25,
   "metadata": {},
   "outputs": [],
   "source": [
    "def confusion_metrics(row):\n",
    "    if row['y'] == 1 and row['y_pred'] == 0:\n",
    "        val = 'FN'\n",
    "    elif row['y'] == 0 and row['y_pred'] == 1:\n",
    "        val = 'FP'\n",
    "    elif row['y'] == 1:\n",
    "        val = 'TP'\n",
    "    else:\n",
    "        val = 'TN'\n",
    "\n",
    "    return val"
   ]
  },
  {
   "cell_type": "code",
   "execution_count": 26,
   "metadata": {},
   "outputs": [],
   "source": [
    "# generalized function for comparing accuracy\n",
    "def compare_acc(dfx, dfy, y_pred, sl):\n",
    "    feat = sl[0][0]\n",
    "    if sl[0][1] is None:\n",
    "        indexes = np.arange(dfx.index[:][-1])\n",
    "    elif type(sl[0][1]) == list:\n",
    "        hdr_min, hdr_max = sl[0][1][0], sl[0][1][1]\n",
    "        if hdr_min == hdr_max:\n",
    "            indexes = dfx.index[dfx[feat] == hdr_min]\n",
    "        else:\n",
    "            indexes = dfx.index[dfx[feat].between(hdr_min, hdr_max)]\n",
    "    else:\n",
    "        indexes = dfx.index[dfx[feat] == sl[0][1]]\n",
    "    test_acc = np.sum(y_pred == np.array(dfy.values)[:,0]) / len(y_pred)\n",
    "    sub_acc = np.sum(y_pred[indexes] == np.array(dfy.loc[indexes].values)[:,0]) / len(indexes)\n",
    "\n",
    "    dif = test_acc - sub_acc\n",
    "    \n",
    "    return dif, sub_acc"
   ]
  },
  {
   "cell_type": "code",
   "execution_count": 27,
   "metadata": {},
   "outputs": [],
   "source": [
    "def compare_f1(dfx, y, y_pred , sl):\n",
    "    feat = sl[0][0]\n",
    "    \n",
    "    val_total_f1 = metrics.f1_score(y, y_pred)\n",
    "    \n",
    "    main = pd.DataFrame()\n",
    "    main[feat] = dfx[feat].copy()\n",
    "\n",
    "    main['y_pred'] = y_pred\n",
    "    main['y'] = y\n",
    "    \n",
    "    main['metrics'] = main.apply(confusion_metrics, axis=1)\n",
    "\n",
    "    if type(sl[0][1]) == list:\n",
    "        left = sl[0][1][0]\n",
    "        right = sl[0][1][1]\n",
    "\n",
    "        indexes = dfx.index[dfx[feat].between(left, right)]\n",
    "        new_dfx = main.loc[indexes]\n",
    "        new_y = y.loc[indexes]\n",
    "        new_y_pred = y_pred[indexes]\n",
    "        \n",
    "    else:\n",
    "        val = sl[0][1]\n",
    "        \n",
    "        indexes = dfx.index[dfx[feat] == val]\n",
    "        new_dfx = main.loc[indexes]\n",
    "        new_y = y.loc[indexes]\n",
    "        new_y_pred = y_pred[indexes]\n",
    "    \n",
    "    TP = new_dfx[feat].where(new_dfx.metrics == 'TP').count()\n",
    "    TN = new_dfx[feat].where(new_dfx.metrics == 'TN').count()\n",
    "    FP = new_dfx[feat].where(new_dfx.metrics == 'FP').count()\n",
    "    FN = new_dfx[feat].where(new_dfx.metrics == 'FN').count()\n",
    "    if FP == 0 and FN == 0:\n",
    "        val_slice_f1 = 1\n",
    "    else:\n",
    "        \n",
    "        val_slice_f1 = metrics.f1_score(new_y, new_y_pred)\n",
    "\n",
    "    dif = val_total_f1 - val_slice_f1\n",
    "\n",
    "    return dif, val_slice_f1"
   ]
  },
  {
   "cell_type": "code",
   "execution_count": 28,
   "metadata": {},
   "outputs": [],
   "source": [
    "def find_range(data,y,y_pred ,col, hdi_prob = 0.9, q1=2,q2 = 5, func = f1, baseline = 0.46): # with moving window\n",
    "    # HDR\n",
    "    #   print(f\"Checking {col} feature:\")\n",
    "\n",
    "    main = pd.DataFrame()\n",
    "    main[col] = data[col].copy()\n",
    "\n",
    "    main['y_pred'] = y_pred\n",
    "    main['y'] = y\n",
    "\n",
    "    main['metrics'] = main.apply(confusion_metrics, axis=1)\n",
    "\n",
    "\n",
    "    np_data = main[col].to_numpy()\n",
    "    hdr = az.hdi(np_data, hdi_prob=hdi_prob)\n",
    "\n",
    "    new_left = hdr[0]\n",
    "    new_right = hdr[1]\n",
    "\n",
    "    #print(f\"HDR = [{new_left}, {new_right}]\")\n",
    "\n",
    "\n",
    "    new_data = main.where(main[col] >= new_left).where(main[col] <= new_right)\n",
    "\n",
    "    TP = new_data[col].where(new_data.metrics == 'TP').count() # always closed from right\n",
    "    TN = new_data[col].where(new_data.metrics == 'TN').count()\n",
    "    FP = new_data[col].where(new_data.metrics == 'FP').count()\n",
    "    FN = new_data[col].where(new_data.metrics == 'FN').count()\n",
    "    acc = func(TP,TN,FP,FN)\n",
    "\n",
    "    #print(f\"HDR accuracy measure= {acc:.3f}\")\n",
    "\n",
    "\n",
    "    # find bigest error in HDR using pd.qcut\n",
    "    slices = []\n",
    "    lowest_acc = 1\n",
    "    slice_to_upgrade = None\n",
    "    slices_under_baseline = []\n",
    "    worst_matrix = [0,0,0,0]\n",
    "    n_unique = len(pd.unique(new_data[col]))\n",
    "\n",
    "    #print(n_unique)\n",
    "    if q2> n_unique/2:\n",
    "        q2 = n_unique\n",
    "\n",
    "    for q in range(q1,q2+1):\n",
    "        x = pd.qcut(new_data[col], q=q, duplicates='drop').value_counts()\n",
    "        #x = pd.cut(new_data, bins=q, duplicates='drop').value_counts()\n",
    "        if len(x) < q:\n",
    "          #print(f'not splittiable with qcut to {q} intervals')\n",
    "          break\n",
    "    \n",
    "    for interval in x.index:\n",
    "      left = interval.left\n",
    "      right = interval.right\n",
    "      TP = new_data[col].where(new_data.metrics == 'TP').where(new_data[col] > left).where(new_data[col] <= right).count() # always closed from right\n",
    "      TN = new_data[col].where(new_data.metrics == 'TN').where(new_data[col] > left).where(new_data[col] <= right).count()\n",
    "      FP = new_data[col].where(new_data.metrics == 'FP').where(new_data[col] > left).where(new_data[col] <= right).count()\n",
    "      FN = new_data[col].where(new_data.metrics == 'FN').where(new_data[col] > left).where(new_data[col] <= right).count()\n",
    "      acc = func(TP,TN,FP,FN)\n",
    "\n",
    "      if  acc < lowest_acc: #and acc > 0:\n",
    "        lowest_acc = acc\n",
    "        slice_to_upgrade = interval\n",
    "        worst_matrix = [TP, TN, FP, FN]\n",
    "\n",
    "      slices.append([interval, acc, TP, TN, FP, FN])\n",
    "      if acc < baseline:\n",
    "        slices_under_baseline.append(interval)\n",
    "\n",
    "  #print(f\"worst slice = {slice_to_upgrade} with accuracy of {lowest_acc}\")\n",
    "  #print(f\"(TP,TN,FP,FN) = ({worst_matrix[0]},{worst_matrix[1]},{worst_matrix[2]},{worst_matrix[3]})\")\n",
    "\n",
    "    return slices_under_baseline, slice_to_upgrade, lowest_acc, worst_matrix"
   ]
  },
  {
   "cell_type": "code",
   "execution_count": 29,
   "metadata": {},
   "outputs": [
    {
     "data": {
      "text/plain": [
       "['age', 'balance', 'day', 'duration', 'campaign', 'pdays', 'previous']"
      ]
     },
     "execution_count": 29,
     "metadata": {},
     "output_type": "execute_result"
    }
   ],
   "source": [
    "# get list of all numeric feature slices\n",
    "num_feats = []\n",
    "for i, col in enumerate(data.dtypes):\n",
    "    if np.issubdtype(col, np.integer):\n",
    "        if data.columns[i] == 'y':\n",
    "            pass\n",
    "        else:\n",
    "            num_feats.append(data.columns[i])\n",
    "\n",
    "num_feats"
   ]
  },
  {
   "cell_type": "code",
   "execution_count": 30,
   "metadata": {},
   "outputs": [
    {
     "data": {
      "text/plain": [
       "{'age': [36.0001, 41.0],\n",
       " 'balance': [15.0001, 223.0],\n",
       " 'day': [17.0001, 21.0],\n",
       " 'duration': [3.9991000000000003, 87.0],\n",
       " 'campaign': [2.0001, 5.0],\n",
       " 'pdays': [-1.0009, 190.0],\n",
       " 'previous': [-0.0009, 2.0]}"
      ]
     },
     "execution_count": 30,
     "metadata": {},
     "output_type": "execute_result"
    }
   ],
   "source": [
    "df_x = X_val.reset_index(drop=True)\n",
    "df_y = y_val.reset_index(drop=True)\n",
    "y_pred = np.argmax(y_predict,1)\n",
    "\n",
    "compare = y_pred == np.array(df_y.values[:,0])\n",
    "bad_guesses = X_val.iloc[np.where(compare == 0)[0]]\n",
    "\n",
    "hdr_dict = {}\n",
    "for feat in num_feats:\n",
    "    _, slice_to_upgrade, _, _ = find_range(df_x,df_y,y_pred ,col = feat)\n",
    "    if slice_to_upgrade == None:\n",
    "        pass\n",
    "    else:\n",
    "        hdr_dict[feat] = [slice_to_upgrade.left + .0001, slice_to_upgrade.right]\n",
    "\n",
    "hdr_dict"
   ]
  },
  {
   "cell_type": "markdown",
   "metadata": {},
   "source": [
    "## Creating All Slices"
   ]
  },
  {
   "cell_type": "code",
   "execution_count": 31,
   "metadata": {
    "_cell_guid": "a5e2a920-9744-4057-b49c-997ab6568472",
    "_uuid": "1ba50344d124c95a4edc6c738814589f96440785",
    "jupyter": {
     "outputs_hidden": true
    }
   },
   "outputs": [
    {
     "data": {
      "text/plain": [
       "[(['age', [36.0001, 41.0]],),\n",
       " (['balance', [15.0001, 223.0]],),\n",
       " (['day', [17.0001, 21.0]],),\n",
       " (['duration', [3.9991000000000003, 87.0]],),\n",
       " (['campaign', [2.0001, 5.0]],),\n",
       " (['pdays', [-1.0009, 190.0]],),\n",
       " (['previous', [-0.0009, 2.0]],),\n",
       " (['job_admin.', 1],),\n",
       " (['job_blue-collar', 1],),\n",
       " (['job_entrepreneur', 1],),\n",
       " (['job_housemaid', 1],),\n",
       " (['job_management', 1],),\n",
       " (['job_retired', 1],),\n",
       " (['job_self-employed', 1],),\n",
       " (['job_services', 1],),\n",
       " (['job_student', 1],),\n",
       " (['job_technician', 1],),\n",
       " (['job_unemployed', 1],),\n",
       " (['job_unknown', 1],),\n",
       " (['marital_divorced', 1],),\n",
       " (['marital_married', 1],),\n",
       " (['marital_single', 1],),\n",
       " (['education_primary', 1],),\n",
       " (['education_secondary', 1],),\n",
       " (['education_tertiary', 1],),\n",
       " (['education_unknown', 1],),\n",
       " (['default_no', 1],),\n",
       " (['default_yes', 1],),\n",
       " (['housing_no', 1],),\n",
       " (['housing_yes', 1],),\n",
       " (['loan_no', 1],),\n",
       " (['loan_yes', 1],),\n",
       " (['contact_cellular', 1],),\n",
       " (['contact_telephone', 1],),\n",
       " (['contact_unknown', 1],),\n",
       " (['month_apr', 1],),\n",
       " (['month_aug', 1],),\n",
       " (['month_dec', 1],),\n",
       " (['month_feb', 1],),\n",
       " (['month_jan', 1],),\n",
       " (['month_jul', 1],),\n",
       " (['month_jun', 1],),\n",
       " (['month_mar', 1],),\n",
       " (['month_may', 1],),\n",
       " (['month_nov', 1],),\n",
       " (['month_oct', 1],),\n",
       " (['month_sep', 1],),\n",
       " (['poutcome_failure', 1],),\n",
       " (['poutcome_other', 1],),\n",
       " (['poutcome_success', 1],),\n",
       " (['poutcome_unknown', 1],)]"
      ]
     },
     "execution_count": 31,
     "metadata": {},
     "output_type": "execute_result"
    }
   ],
   "source": [
    "from itertools import combinations\n",
    "# generate slices\n",
    "feats_and_vals = []\n",
    "for feat in X_train.columns:\n",
    "    # for numeric features only create slices in hdr\n",
    "    if feat in num_feats:\n",
    "        if feat not in hdr_dict.keys():\n",
    "            pass\n",
    "        else:\n",
    "            feats_and_vals.append([feat, hdr_dict[feat]])\n",
    "    # for categorical features, create slices for each unique value\n",
    "    else:\n",
    "        for val in X_train[feat].unique():\n",
    "            if val == 0:\n",
    "                pass\n",
    "            else:\n",
    "                feats_and_vals.append([feat, val])\n",
    "\n",
    "combos = list(combinations(feats_and_vals,1))\n",
    "combos"
   ]
  },
  {
   "cell_type": "markdown",
   "metadata": {},
   "source": [
    "## Filtering Problematic Slices"
   ]
  },
  {
   "cell_type": "code",
   "execution_count": 32,
   "metadata": {},
   "outputs": [],
   "source": [
    "def test_error(prob_slice):\n",
    "    feat = prob_slice[0][0]\n",
    "    \n",
    "    if type(prob_slice[0][1]) == list:\n",
    "        hdr_min, hdr_max = prob_slice[0][1][0], prob_slice[0][1][1]\n",
    "        if hdr_min == hdr_max:\n",
    "            test_error = len(bad_guesses[bad_guesses[feat] == hdr_min]) / len(bad_guesses)\n",
    "        else:\n",
    "            test_error = len(bad_guesses[bad_guesses[feat].between(hdr_min, hdr_max)]) / len(bad_guesses)\n",
    "    else:\n",
    "        val = prob_slice[0][1]\n",
    "        test_error = len(bad_guesses[bad_guesses[feat] == val]) / len(bad_guesses)\n",
    "    \n",
    "    return test_error"
   ]
  },
  {
   "cell_type": "code",
   "execution_count": 33,
   "metadata": {},
   "outputs": [
    {
     "data": {
      "text/plain": [
       "[[(['age', [36.0001, 41.0]],), 0.4473684210526316, 0.12883435582822086],\n",
       " [(['balance', [15.0001, 223.0]],), 0.46249999999999997, 0.13190184049079753],\n",
       " [(['day', [17.0001, 21.0]],), 0.45263157894736844, 0.15950920245398773],\n",
       " [(['previous', [-0.0009, 2.0]],), 0.4843897824030275, 0.8358895705521472],\n",
       " [(['job_admin.', 1],), 0.4871794871794872, 0.12269938650306748],\n",
       " [(['job_management', 1],), 0.46464646464646464, 0.24386503067484663],\n",
       " [(['job_services', 1],), 0.4901960784313726, 0.07975460122699386],\n",
       " [(['education_tertiary', 1],), 0.48594377510040165, 0.39263803680981596],\n",
       " [(['housing_yes', 1],), 0.4474885844748858, 0.37116564417177916],\n",
       " [(['loan_yes', 1],), 0.4299065420560747, 0.09355828220858896],\n",
       " [(['contact_unknown', 1],), 0.3787878787878788, 0.12576687116564417],\n",
       " [(['month_feb', 1],), 0.4423076923076923, 0.08895705521472393],\n",
       " [(['month_jul', 1],), 0.3971631205673759, 0.1303680981595092],\n",
       " [(['month_nov', 1],), 0.41463414634146345, 0.0736196319018405],\n",
       " [(['poutcome_failure', 1],), 0.4285714285714286, 0.13496932515337423],\n",
       " [(['poutcome_other', 1],), 0.41025641025641024, 0.0705521472392638],\n",
       " [(['poutcome_unknown', 1],), 0.43859649122807015, 0.6871165644171779]]"
      ]
     },
     "execution_count": 33,
     "metadata": {},
     "output_type": "execute_result"
    }
   ],
   "source": [
    "# check importance of slices\n",
    "prob_slices = []\n",
    "for sl in combos:\n",
    "    dif, acc = compare_f1(df_x, df_y, y_pred, sl)\n",
    "    if dif > sig:\n",
    "        error = test_error(sl)\n",
    "        if error >= min_support:\n",
    "            prob_slices.append([sl, acc, error])\n",
    "\n",
    "prob_slices"
   ]
  },
  {
   "cell_type": "code",
   "execution_count": 72,
   "metadata": {},
   "outputs": [],
   "source": [
    "f1s_val = {}\n",
    "for i, sl in enumerate(prob_slices):\n",
    "    sl_name = sl[0][0][0]\n",
    "    dif, f1 = compare_f1(df_x, df_y, y_pred , sl[0])\n",
    "    if i == 0:        \n",
    "        f1s_val['total_acc'] = test_acc\n",
    "        f1s_val['total'] = f1 + dif\n",
    "    f1s_val[sl_name] = f1"
   ]
  },
  {
   "cell_type": "markdown",
   "metadata": {},
   "source": [
    "## Synthetic Data Tomer CTGAN"
   ]
  },
  {
   "cell_type": "code",
   "execution_count": 35,
   "metadata": {},
   "outputs": [],
   "source": [
    "def extract_discrete_columns_from_data(data, threshold=20):\n",
    "    column_uniques = data.nunique()\n",
    "    column_names = data.columns\n",
    "    discrete_columns = []\n",
    "    \n",
    "    for col_index, num_of_uniques in enumerate(column_uniques):\n",
    "        if num_of_uniques < threshold: # Any column with less unique values than the trheshold is considered discrete\n",
    "            discrete_columns.append(column_names[col_index])\n",
    "    \n",
    "    return discrete_columns\n",
    "\n",
    "# This does weird things...\n",
    "def comare_data_with_synthetic(data, synthetic):\n",
    "    from table_evaluator import load_data, TableEvaluator\n",
    "    table_evaluator = TableEvaluator(data, synthetic)\n",
    "    table_evaluator.visual_evaluation()\n",
    "\n",
    "def generate_synthetic_data_from_slice(data, num_samples_to_generate, num_epochs=10, \n",
    "                                       discrete_columns=None, should_compare=False):\n",
    "    if discrete_columns is None:\n",
    "        discrete_columns = extract_discrete_columns_from_data(data)\n",
    "        \n",
    "    ctgan = CTGANSynthesizer(epochs=num_epochs)\n",
    "    ctgan.fit(data, discrete_columns)\n",
    "    \n",
    "    samples = ctgan.sample(num_samples_to_generate)\n",
    "    \n",
    "    if should_compare:\n",
    "        comare_data_with_synthetic(data, samples)\n",
    "    \n",
    "    return samples"
   ]
  },
  {
   "cell_type": "code",
   "execution_count": 36,
   "metadata": {},
   "outputs": [],
   "source": [
    "def generate_synthetic_data_for_problematic_slices(x_train_raw_df, y_train_df, prob_slices_lst, percent_to_generate=gen_p):\n",
    "    train_df_cp = x_train_raw_df.copy(deep=True)\n",
    "    y_train_df_cp = y_train_df.copy(deep=True)\n",
    "    train_df_cp['y'] = y_train_df_cp\n",
    "    \n",
    "    print(train_df_cp.shape)\n",
    "    \n",
    "    generated_samples_dict = {}\n",
    "    \n",
    "    for prob_slice in prob_slices_lst:\n",
    "        column_name = prob_slice[0][0][0]\n",
    "        key = column_name\n",
    "        \n",
    "        is_categorical = '_' in column_name\n",
    "        \n",
    "        if is_categorical:\n",
    "            split_col = column_name.split('_')\n",
    "            column_name, column_value = split_col[0], split_col[1]\n",
    "        else:\n",
    "            prob_feat = prob_slice\n",
    "            column_from_val, column_to_val = prob_slice[0][0][1]\n",
    "        \n",
    "        #print(f'column_name: {column_name}, column_from_val: {column_from_val}, column_to_val: {column_to_val}')\n",
    "        if is_categorical:\n",
    "            prob_df = train_df_cp[train_df_cp[column_name] == column_value]\n",
    "        else:\n",
    "            prob_df = train_df_cp[(train_df_cp[column_name] >= column_from_val) & \n",
    "                                  (train_df_cp[column_name] <= column_to_val)]\n",
    "        \n",
    "        num_to_generate = int(len(prob_df) * percent_to_generate)\n",
    "        \n",
    "        generated_samples = generate_synthetic_data_from_slice(prob_df, num_to_generate)\n",
    "        \n",
    "        generated_samples_y = pd.DataFrame(generated_samples['y'])\n",
    "        generated_samples_x = generated_samples.drop(['y'], axis=1)\n",
    "        \n",
    "        generated_samples_dict[key] = (generated_samples_x, generated_samples_y)\n",
    "        \n",
    "    return generated_samples_dict"
   ]
  },
  {
   "cell_type": "code",
   "execution_count": 37,
   "metadata": {},
   "outputs": [],
   "source": [
    "minority_class = np.argmin(y_train.value_counts())\n",
    "minority_idx = y_train[y_train['y'] == minority_class].index\n",
    "\n",
    "X = X_train_raw.copy()\n",
    "X = X.loc[minority_idx]\n",
    "y = y_train.loc[minority_idx]"
   ]
  },
  {
   "cell_type": "code",
   "execution_count": 38,
   "metadata": {
    "scrolled": true
   },
   "outputs": [
    {
     "name": "stdout",
     "output_type": "stream",
     "text": [
      "(3703, 17)\n"
     ]
    },
    {
     "name": "stderr",
     "output_type": "stream",
     "text": [
      "c:\\users\\ziv\\appdata\\local\\programs\\python\\python38\\lib\\site-packages\\sklearn\\mixture\\_base.py:265: ConvergenceWarning: Initialization 1 did not converge. Try different init parameters, or increase max_iter, tol or check for degenerate data.\n",
      "  warnings.warn('Initialization %d did not converge. '\n",
      "c:\\users\\ziv\\appdata\\local\\programs\\python\\python38\\lib\\site-packages\\sklearn\\mixture\\_base.py:265: ConvergenceWarning: Initialization 1 did not converge. Try different init parameters, or increase max_iter, tol or check for degenerate data.\n",
      "  warnings.warn('Initialization %d did not converge. '\n",
      "c:\\users\\ziv\\appdata\\local\\programs\\python\\python38\\lib\\site-packages\\sklearn\\mixture\\_base.py:265: ConvergenceWarning: Initialization 1 did not converge. Try different init parameters, or increase max_iter, tol or check for degenerate data.\n",
      "  warnings.warn('Initialization %d did not converge. '\n",
      "c:\\users\\ziv\\appdata\\local\\programs\\python\\python38\\lib\\site-packages\\sklearn\\mixture\\_base.py:265: ConvergenceWarning: Initialization 1 did not converge. Try different init parameters, or increase max_iter, tol or check for degenerate data.\n",
      "  warnings.warn('Initialization %d did not converge. '\n",
      "c:\\users\\ziv\\appdata\\local\\programs\\python\\python38\\lib\\site-packages\\sklearn\\mixture\\_base.py:265: ConvergenceWarning: Initialization 1 did not converge. Try different init parameters, or increase max_iter, tol or check for degenerate data.\n",
      "  warnings.warn('Initialization %d did not converge. '\n",
      "c:\\users\\ziv\\appdata\\local\\programs\\python\\python38\\lib\\site-packages\\sklearn\\mixture\\_base.py:265: ConvergenceWarning: Initialization 1 did not converge. Try different init parameters, or increase max_iter, tol or check for degenerate data.\n",
      "  warnings.warn('Initialization %d did not converge. '\n",
      "c:\\users\\ziv\\appdata\\local\\programs\\python\\python38\\lib\\site-packages\\sklearn\\mixture\\_base.py:265: ConvergenceWarning: Initialization 1 did not converge. Try different init parameters, or increase max_iter, tol or check for degenerate data.\n",
      "  warnings.warn('Initialization %d did not converge. '\n",
      "c:\\users\\ziv\\appdata\\local\\programs\\python\\python38\\lib\\site-packages\\sklearn\\mixture\\_base.py:265: ConvergenceWarning: Initialization 1 did not converge. Try different init parameters, or increase max_iter, tol or check for degenerate data.\n",
      "  warnings.warn('Initialization %d did not converge. '\n",
      "c:\\users\\ziv\\appdata\\local\\programs\\python\\python38\\lib\\site-packages\\sklearn\\mixture\\_base.py:265: ConvergenceWarning: Initialization 1 did not converge. Try different init parameters, or increase max_iter, tol or check for degenerate data.\n",
      "  warnings.warn('Initialization %d did not converge. '\n",
      "c:\\users\\ziv\\appdata\\local\\programs\\python\\python38\\lib\\site-packages\\sklearn\\mixture\\_base.py:265: ConvergenceWarning: Initialization 1 did not converge. Try different init parameters, or increase max_iter, tol or check for degenerate data.\n",
      "  warnings.warn('Initialization %d did not converge. '\n",
      "c:\\users\\ziv\\appdata\\local\\programs\\python\\python38\\lib\\site-packages\\sklearn\\mixture\\_base.py:265: ConvergenceWarning: Initialization 1 did not converge. Try different init parameters, or increase max_iter, tol or check for degenerate data.\n",
      "  warnings.warn('Initialization %d did not converge. '\n",
      "c:\\users\\ziv\\appdata\\local\\programs\\python\\python38\\lib\\site-packages\\sklearn\\mixture\\_base.py:265: ConvergenceWarning: Initialization 1 did not converge. Try different init parameters, or increase max_iter, tol or check for degenerate data.\n",
      "  warnings.warn('Initialization %d did not converge. '\n",
      "c:\\users\\ziv\\appdata\\local\\programs\\python\\python38\\lib\\site-packages\\sklearn\\mixture\\_base.py:265: ConvergenceWarning: Initialization 1 did not converge. Try different init parameters, or increase max_iter, tol or check for degenerate data.\n",
      "  warnings.warn('Initialization %d did not converge. '\n",
      "c:\\users\\ziv\\appdata\\local\\programs\\python\\python38\\lib\\site-packages\\sklearn\\mixture\\_base.py:265: ConvergenceWarning: Initialization 1 did not converge. Try different init parameters, or increase max_iter, tol or check for degenerate data.\n",
      "  warnings.warn('Initialization %d did not converge. '\n",
      "c:\\users\\ziv\\appdata\\local\\programs\\python\\python38\\lib\\site-packages\\sklearn\\mixture\\_base.py:265: ConvergenceWarning: Initialization 1 did not converge. Try different init parameters, or increase max_iter, tol or check for degenerate data.\n",
      "  warnings.warn('Initialization %d did not converge. '\n",
      "c:\\users\\ziv\\appdata\\local\\programs\\python\\python38\\lib\\site-packages\\sklearn\\mixture\\_base.py:265: ConvergenceWarning: Initialization 1 did not converge. Try different init parameters, or increase max_iter, tol or check for degenerate data.\n",
      "  warnings.warn('Initialization %d did not converge. '\n",
      "c:\\users\\ziv\\appdata\\local\\programs\\python\\python38\\lib\\site-packages\\sklearn\\mixture\\_base.py:265: ConvergenceWarning: Initialization 1 did not converge. Try different init parameters, or increase max_iter, tol or check for degenerate data.\n",
      "  warnings.warn('Initialization %d did not converge. '\n",
      "c:\\users\\ziv\\appdata\\local\\programs\\python\\python38\\lib\\site-packages\\sklearn\\mixture\\_base.py:265: ConvergenceWarning: Initialization 1 did not converge. Try different init parameters, or increase max_iter, tol or check for degenerate data.\n",
      "  warnings.warn('Initialization %d did not converge. '\n",
      "c:\\users\\ziv\\appdata\\local\\programs\\python\\python38\\lib\\site-packages\\sklearn\\mixture\\_base.py:265: ConvergenceWarning: Initialization 1 did not converge. Try different init parameters, or increase max_iter, tol or check for degenerate data.\n",
      "  warnings.warn('Initialization %d did not converge. '\n",
      "c:\\users\\ziv\\appdata\\local\\programs\\python\\python38\\lib\\site-packages\\sklearn\\mixture\\_base.py:265: ConvergenceWarning: Initialization 1 did not converge. Try different init parameters, or increase max_iter, tol or check for degenerate data.\n",
      "  warnings.warn('Initialization %d did not converge. '\n",
      "c:\\users\\ziv\\appdata\\local\\programs\\python\\python38\\lib\\site-packages\\sklearn\\mixture\\_base.py:265: ConvergenceWarning: Initialization 1 did not converge. Try different init parameters, or increase max_iter, tol or check for degenerate data.\n",
      "  warnings.warn('Initialization %d did not converge. '\n",
      "c:\\users\\ziv\\appdata\\local\\programs\\python\\python38\\lib\\site-packages\\sklearn\\mixture\\_base.py:265: ConvergenceWarning: Initialization 1 did not converge. Try different init parameters, or increase max_iter, tol or check for degenerate data.\n",
      "  warnings.warn('Initialization %d did not converge. '\n",
      "c:\\users\\ziv\\appdata\\local\\programs\\python\\python38\\lib\\site-packages\\sklearn\\mixture\\_base.py:265: ConvergenceWarning: Initialization 1 did not converge. Try different init parameters, or increase max_iter, tol or check for degenerate data.\n",
      "  warnings.warn('Initialization %d did not converge. '\n",
      "c:\\users\\ziv\\appdata\\local\\programs\\python\\python38\\lib\\site-packages\\sklearn\\mixture\\_base.py:265: ConvergenceWarning: Initialization 1 did not converge. Try different init parameters, or increase max_iter, tol or check for degenerate data.\n",
      "  warnings.warn('Initialization %d did not converge. '\n",
      "c:\\users\\ziv\\appdata\\local\\programs\\python\\python38\\lib\\site-packages\\sklearn\\mixture\\_base.py:265: ConvergenceWarning: Initialization 1 did not converge. Try different init parameters, or increase max_iter, tol or check for degenerate data.\n",
      "  warnings.warn('Initialization %d did not converge. '\n",
      "c:\\users\\ziv\\appdata\\local\\programs\\python\\python38\\lib\\site-packages\\sklearn\\mixture\\_base.py:265: ConvergenceWarning: Initialization 1 did not converge. Try different init parameters, or increase max_iter, tol or check for degenerate data.\n",
      "  warnings.warn('Initialization %d did not converge. '\n",
      "c:\\users\\ziv\\appdata\\local\\programs\\python\\python38\\lib\\site-packages\\sklearn\\mixture\\_base.py:265: ConvergenceWarning: Initialization 1 did not converge. Try different init parameters, or increase max_iter, tol or check for degenerate data.\n",
      "  warnings.warn('Initialization %d did not converge. '\n",
      "c:\\users\\ziv\\appdata\\local\\programs\\python\\python38\\lib\\site-packages\\sklearn\\mixture\\_base.py:265: ConvergenceWarning: Initialization 1 did not converge. Try different init parameters, or increase max_iter, tol or check for degenerate data.\n",
      "  warnings.warn('Initialization %d did not converge. '\n",
      "c:\\users\\ziv\\appdata\\local\\programs\\python\\python38\\lib\\site-packages\\sklearn\\mixture\\_base.py:265: ConvergenceWarning: Initialization 1 did not converge. Try different init parameters, or increase max_iter, tol or check for degenerate data.\n",
      "  warnings.warn('Initialization %d did not converge. '\n"
     ]
    },
    {
     "name": "stderr",
     "output_type": "stream",
     "text": [
      "c:\\users\\ziv\\appdata\\local\\programs\\python\\python38\\lib\\site-packages\\sklearn\\mixture\\_base.py:265: ConvergenceWarning: Initialization 1 did not converge. Try different init parameters, or increase max_iter, tol or check for degenerate data.\n",
      "  warnings.warn('Initialization %d did not converge. '\n",
      "c:\\users\\ziv\\appdata\\local\\programs\\python\\python38\\lib\\site-packages\\sklearn\\mixture\\_base.py:265: ConvergenceWarning: Initialization 1 did not converge. Try different init parameters, or increase max_iter, tol or check for degenerate data.\n",
      "  warnings.warn('Initialization %d did not converge. '\n",
      "c:\\users\\ziv\\appdata\\local\\programs\\python\\python38\\lib\\site-packages\\sklearn\\mixture\\_base.py:265: ConvergenceWarning: Initialization 1 did not converge. Try different init parameters, or increase max_iter, tol or check for degenerate data.\n",
      "  warnings.warn('Initialization %d did not converge. '\n",
      "c:\\users\\ziv\\appdata\\local\\programs\\python\\python38\\lib\\site-packages\\sklearn\\mixture\\_base.py:265: ConvergenceWarning: Initialization 1 did not converge. Try different init parameters, or increase max_iter, tol or check for degenerate data.\n",
      "  warnings.warn('Initialization %d did not converge. '\n",
      "c:\\users\\ziv\\appdata\\local\\programs\\python\\python38\\lib\\site-packages\\sklearn\\mixture\\_base.py:265: ConvergenceWarning: Initialization 1 did not converge. Try different init parameters, or increase max_iter, tol or check for degenerate data.\n",
      "  warnings.warn('Initialization %d did not converge. '\n",
      "c:\\users\\ziv\\appdata\\local\\programs\\python\\python38\\lib\\site-packages\\sklearn\\mixture\\_base.py:265: ConvergenceWarning: Initialization 1 did not converge. Try different init parameters, or increase max_iter, tol or check for degenerate data.\n",
      "  warnings.warn('Initialization %d did not converge. '\n",
      "c:\\users\\ziv\\appdata\\local\\programs\\python\\python38\\lib\\site-packages\\sklearn\\mixture\\_base.py:265: ConvergenceWarning: Initialization 1 did not converge. Try different init parameters, or increase max_iter, tol or check for degenerate data.\n",
      "  warnings.warn('Initialization %d did not converge. '\n",
      "c:\\users\\ziv\\appdata\\local\\programs\\python\\python38\\lib\\site-packages\\sklearn\\mixture\\_base.py:265: ConvergenceWarning: Initialization 1 did not converge. Try different init parameters, or increase max_iter, tol or check for degenerate data.\n",
      "  warnings.warn('Initialization %d did not converge. '\n",
      "c:\\users\\ziv\\appdata\\local\\programs\\python\\python38\\lib\\site-packages\\sklearn\\mixture\\_base.py:265: ConvergenceWarning: Initialization 1 did not converge. Try different init parameters, or increase max_iter, tol or check for degenerate data.\n",
      "  warnings.warn('Initialization %d did not converge. '\n",
      "c:\\users\\ziv\\appdata\\local\\programs\\python\\python38\\lib\\site-packages\\sklearn\\mixture\\_base.py:265: ConvergenceWarning: Initialization 1 did not converge. Try different init parameters, or increase max_iter, tol or check for degenerate data.\n",
      "  warnings.warn('Initialization %d did not converge. '\n",
      "c:\\users\\ziv\\appdata\\local\\programs\\python\\python38\\lib\\site-packages\\sklearn\\mixture\\_base.py:265: ConvergenceWarning: Initialization 1 did not converge. Try different init parameters, or increase max_iter, tol or check for degenerate data.\n",
      "  warnings.warn('Initialization %d did not converge. '\n",
      "c:\\users\\ziv\\appdata\\local\\programs\\python\\python38\\lib\\site-packages\\sklearn\\mixture\\_base.py:265: ConvergenceWarning: Initialization 1 did not converge. Try different init parameters, or increase max_iter, tol or check for degenerate data.\n",
      "  warnings.warn('Initialization %d did not converge. '\n",
      "c:\\users\\ziv\\appdata\\local\\programs\\python\\python38\\lib\\site-packages\\sklearn\\mixture\\_base.py:265: ConvergenceWarning: Initialization 1 did not converge. Try different init parameters, or increase max_iter, tol or check for degenerate data.\n",
      "  warnings.warn('Initialization %d did not converge. '\n",
      "c:\\users\\ziv\\appdata\\local\\programs\\python\\python38\\lib\\site-packages\\sklearn\\mixture\\_base.py:265: ConvergenceWarning: Initialization 1 did not converge. Try different init parameters, or increase max_iter, tol or check for degenerate data.\n",
      "  warnings.warn('Initialization %d did not converge. '\n",
      "c:\\users\\ziv\\appdata\\local\\programs\\python\\python38\\lib\\site-packages\\sklearn\\mixture\\_base.py:265: ConvergenceWarning: Initialization 1 did not converge. Try different init parameters, or increase max_iter, tol or check for degenerate data.\n",
      "  warnings.warn('Initialization %d did not converge. '\n",
      "c:\\users\\ziv\\appdata\\local\\programs\\python\\python38\\lib\\site-packages\\sklearn\\mixture\\_base.py:265: ConvergenceWarning: Initialization 1 did not converge. Try different init parameters, or increase max_iter, tol or check for degenerate data.\n",
      "  warnings.warn('Initialization %d did not converge. '\n",
      "c:\\users\\ziv\\appdata\\local\\programs\\python\\python38\\lib\\site-packages\\sklearn\\mixture\\_base.py:265: ConvergenceWarning: Initialization 1 did not converge. Try different init parameters, or increase max_iter, tol or check for degenerate data.\n",
      "  warnings.warn('Initialization %d did not converge. '\n",
      "c:\\users\\ziv\\appdata\\local\\programs\\python\\python38\\lib\\site-packages\\sklearn\\mixture\\_base.py:265: ConvergenceWarning: Initialization 1 did not converge. Try different init parameters, or increase max_iter, tol or check for degenerate data.\n",
      "  warnings.warn('Initialization %d did not converge. '\n",
      "c:\\users\\ziv\\appdata\\local\\programs\\python\\python38\\lib\\site-packages\\sklearn\\mixture\\_base.py:265: ConvergenceWarning: Initialization 1 did not converge. Try different init parameters, or increase max_iter, tol or check for degenerate data.\n",
      "  warnings.warn('Initialization %d did not converge. '\n"
     ]
    }
   ],
   "source": [
    "generated_samples_dict = generate_synthetic_data_for_problematic_slices(X, y, prob_slices)"
   ]
  },
  {
   "cell_type": "markdown",
   "metadata": {},
   "source": [
    "## Adding synthesized data to training set"
   ]
  },
  {
   "cell_type": "code",
   "execution_count": 73,
   "metadata": {},
   "outputs": [],
   "source": [
    "num_slices = num_problem_slices\n",
    "slices_score = []\n",
    "for sl in prob_slices:\n",
    "    feat = sl[0][0][0]\n",
    "    error, f1 = sl[2],sl[1]\n",
    "    if f1==0:\n",
    "        f1=.1\n",
    "    score = error/f1\n",
    "    slices_score.append(score)\n",
    "    \n",
    "slices_score = np.array(slices_score) * (-1)\n",
    "top = list(slices_score.argsort()[:num_slices])\n",
    "\n",
    "important_slices = []\n",
    "for idx in top:\n",
    "    important_slices.append(prob_slices[idx])\n",
    "\n",
    "important_feats = []\n",
    "for sl in important_slices:\n",
    "    feat = sl[0][0][0]\n",
    "    important_feats.append(feat)"
   ]
  },
  {
   "cell_type": "code",
   "execution_count": 74,
   "metadata": {},
   "outputs": [],
   "source": [
    "X_train_new, y_train_new = X_train_raw.reset_index(drop=True).copy(), y_train.reset_index(drop=True).copy()\n",
    "\n",
    "for key, dfs in generated_samples_dict.items():\n",
    "    if dfs[0] is None:\n",
    "        pass\n",
    "    else:\n",
    "        if key in important_feats:\n",
    "            X_train_new = X_train_new.append(dfs[0])\n",
    "            y_train_new = y_train_new.append(dfs[1])"
   ]
  },
  {
   "cell_type": "code",
   "execution_count": 75,
   "metadata": {},
   "outputs": [],
   "source": [
    "# X_train_new, y_train_new = X_train_raw.reset_index(drop=True).copy(), y_train.reset_index(drop=True).copy()\n",
    "\n",
    "# for dfs in generated_samples_dict.values():\n",
    "#     if dfs[0] is None:\n",
    "#         pass\n",
    "#     else:\n",
    "#         X_train_new = X_train_new.append(dfs[0])\n",
    "#         y_train_new = y_train_new.append(dfs[1])"
   ]
  },
  {
   "cell_type": "code",
   "execution_count": 76,
   "metadata": {},
   "outputs": [
    {
     "data": {
      "text/plain": [
       "(37340, 31647)"
      ]
     },
     "execution_count": 76,
     "metadata": {},
     "output_type": "execute_result"
    }
   ],
   "source": [
    "X_train_new = pd.get_dummies(X_train_new, columns=cat_feats)\n",
    "len(X_train_new), len(X_train_raw)"
   ]
  },
  {
   "cell_type": "code",
   "execution_count": 77,
   "metadata": {},
   "outputs": [
    {
     "data": {
      "text/plain": [
       "[[(['previous', [-0.0009, 2.0]],), 0.4843897824030275, 0.8358895705521472],\n",
       " [(['poutcome_unknown', 1],), 0.43859649122807015, 0.6871165644171779],\n",
       " [(['housing_yes', 1],), 0.4474885844748858, 0.37116564417177916],\n",
       " [(['education_tertiary', 1],), 0.48594377510040165, 0.39263803680981596],\n",
       " [(['job_management', 1],), 0.46464646464646464, 0.24386503067484663],\n",
       " [(['day', [17.0001, 21.0]],), 0.45263157894736844, 0.15950920245398773],\n",
       " [(['contact_unknown', 1],), 0.3787878787878788, 0.12576687116564417],\n",
       " [(['month_jul', 1],), 0.3971631205673759, 0.1303680981595092],\n",
       " [(['poutcome_failure', 1],), 0.4285714285714286, 0.13496932515337423],\n",
       " [(['age', [36.0001, 41.0]],), 0.4473684210526316, 0.12883435582822086]]"
      ]
     },
     "execution_count": 77,
     "metadata": {},
     "output_type": "execute_result"
    }
   ],
   "source": [
    "important_slices"
   ]
  },
  {
   "cell_type": "code",
   "execution_count": 78,
   "metadata": {},
   "outputs": [
    {
     "data": {
      "text/plain": [
       "3094"
      ]
     },
     "execution_count": 78,
     "metadata": {},
     "output_type": "execute_result"
    }
   ],
   "source": [
    "minority_class = np.argmin(y_train.value_counts())\n",
    "minority_idx = y_train[y_train['y'] == minority_class].index\n",
    "\n",
    "X = X_train_raw.copy()\n",
    "X = X.loc[minority_idx]\n",
    "y = y_train.loc[minority_idx]\n",
    "\n",
    "len(X[X['previous'].between(-0.0009, 2.0)])"
   ]
  },
  {
   "cell_type": "markdown",
   "metadata": {},
   "source": [
    "## Retraining model with new training set"
   ]
  },
  {
   "cell_type": "code",
   "execution_count": 79,
   "metadata": {},
   "outputs": [
    {
     "name": "stdout",
     "output_type": "stream",
     "text": [
      "[19:26:18] WARNING: C:/Users/Administrator/workspace/xgboost-win64_release_1.5.0/src/learner.cc:576: \n",
      "Parameters: { \"max_dept\", \"silent\" } might not be used.\n",
      "\n",
      "  This could be a false alarm, with some parameters getting used by language bindings but\n",
      "  then being mistakenly passed down to XGBoost core, or some parameter actually being used\n",
      "  but getting flagged wrongly here. Please open an issue if you find any such cases.\n",
      "\n",
      "\n",
      "[19:26:18] WARNING: C:/Users/Administrator/workspace/xgboost-win64_release_1.5.0/src/learner.cc:1115: Starting in XGBoost 1.3.0, the default evaluation metric used with the objective 'multi:softprob' was changed from 'merror' to 'mlogloss'. Explicitly set eval_metric if you'd like to restore the old behavior.\n"
     ]
    },
    {
     "data": {
      "text/plain": [
       "0.9026835741669124"
      ]
     },
     "execution_count": 79,
     "metadata": {},
     "output_type": "execute_result"
    }
   ],
   "source": [
    "dtrain = xgb.DMatrix(X_train_new, label=y_train_new)\n",
    "dtest = xgb.DMatrix(X_test)\n",
    "\n",
    "watchlist = [(dtrain, 'train'),(dtest, 'val')]\n",
    "\n",
    "#Train the model\n",
    "params = {\n",
    "    'objective':'multi:softprob',\n",
    "#     'objective':'multi:mlogloss',\n",
    "    'max_dept':4,\n",
    "    'silent':1,\n",
    "    'eta':0.3,\n",
    "    'gamma': 0,\n",
    "    'num_class': 2\n",
    "}\n",
    "num_rounds=20\n",
    "\n",
    "XGB_Model = xgb.train(params,dtrain,num_rounds)\n",
    "\n",
    "XGB_Model.dump_model('dump.rawBank.txt')\n",
    "\n",
    "y_predict_test = XGB_Model.predict(dtest)\n",
    "\n",
    "y_predict_assignment = np.argmax(y_predict_test, 1).reshape([-1,1])\n",
    "test_acc_synth = np.sum(y_predict_assignment == np.array(y_test)) / len(y_predict_test)\n",
    "test_acc_synth"
   ]
  },
  {
   "cell_type": "code",
   "execution_count": 80,
   "metadata": {},
   "outputs": [],
   "source": [
    "df_x_test = X_test.reset_index(drop=True)\n",
    "df_y_test = y_test.reset_index(drop=True)\n",
    "y_pred_test = np.argmax(y_predict_test, 1)\n",
    "\n",
    "f1s_test_with_synth = {}\n",
    "for i, sl in enumerate(prob_slices):\n",
    "    sl_name = sl[0][0][0]\n",
    "    dif, f1 = compare_f1(df_x_test, df_y_test, y_pred_test , sl[0])\n",
    "    if i == 0:        \n",
    "        f1s_test_with_synth['total_acc'] = test_acc_synth\n",
    "        f1s_test_with_synth['total'] = f1 + dif\n",
    "    f1s_test_with_synth[sl_name] = f1"
   ]
  },
  {
   "cell_type": "markdown",
   "metadata": {},
   "source": [
    "## Regular Boosted Model Performance on Test Set"
   ]
  },
  {
   "cell_type": "code",
   "execution_count": 81,
   "metadata": {},
   "outputs": [
    {
     "name": "stdout",
     "output_type": "stream",
     "text": [
      "[19:26:20] WARNING: C:/Users/Administrator/workspace/xgboost-win64_release_1.5.0/src/learner.cc:576: \n",
      "Parameters: { \"max_dept\", \"silent\" } might not be used.\n",
      "\n",
      "  This could be a false alarm, with some parameters getting used by language bindings but\n",
      "  then being mistakenly passed down to XGBoost core, or some parameter actually being used\n",
      "  but getting flagged wrongly here. Please open an issue if you find any such cases.\n",
      "\n",
      "\n",
      "[19:26:20] WARNING: C:/Users/Administrator/workspace/xgboost-win64_release_1.5.0/src/learner.cc:1115: Starting in XGBoost 1.3.0, the default evaluation metric used with the objective 'multi:softprob' was changed from 'merror' to 'mlogloss'. Explicitly set eval_metric if you'd like to restore the old behavior.\n"
     ]
    },
    {
     "data": {
      "text/plain": [
       "0.9046004128575641"
      ]
     },
     "execution_count": 81,
     "metadata": {},
     "output_type": "execute_result"
    }
   ],
   "source": [
    "dtrain = xgb.DMatrix(X_train, label=y_train)\n",
    "dtest = xgb.DMatrix(X_test)\n",
    "\n",
    "watchlist = [(dtrain, 'train'),(dtest, 'val')]\n",
    "\n",
    "#Train the model\n",
    "params = {\n",
    "    'objective':'multi:softprob',\n",
    "#     'objective':'multi:mlogloss',\n",
    "    'max_dept':4,\n",
    "    'silent':1,\n",
    "    'eta':0.3,\n",
    "    'gamma': 0,\n",
    "    'num_class': 2\n",
    "}\n",
    "num_rounds=20\n",
    "\n",
    "XGB_Model = xgb.train(params,dtrain,num_rounds)\n",
    "\n",
    "XGB_Model.dump_model('dump.rawBank.txt')\n",
    "\n",
    "y_predict_test = XGB_Model.predict(dtest)\n",
    "\n",
    "y_predict_assignment = np.argmax(y_predict_test, 1).reshape([-1,1])\n",
    "test_acc_reg = np.sum(y_predict_assignment == np.array(y_test)) / len(y_predict_test)\n",
    "test_acc_reg"
   ]
  },
  {
   "cell_type": "code",
   "execution_count": 82,
   "metadata": {},
   "outputs": [],
   "source": [
    "y_pred_test = np.argmax(y_predict_test, 1)\n",
    "\n",
    "f1s_test = {}\n",
    "for i, sl in enumerate(prob_slices):\n",
    "    sl_name = sl[0][0][0]\n",
    "    dif, f1 = compare_f1(df_x_test, df_y_test, y_pred_test , sl[0])\n",
    "    if i == 0:        \n",
    "        f1s_test['total_acc'] = test_acc_reg\n",
    "        f1s_test['total'] = f1 + dif\n",
    "    f1s_test[sl_name] = f1"
   ]
  },
  {
   "cell_type": "markdown",
   "metadata": {},
   "source": [
    "## Regular Boosted Model wi th random added data Performance on Test Set"
   ]
  },
  {
   "cell_type": "code",
   "execution_count": 84,
   "metadata": {},
   "outputs": [
    {
     "name": "stdout",
     "output_type": "stream",
     "text": [
      "[19:26:23] WARNING: C:/Users/Administrator/workspace/xgboost-win64_release_1.5.0/src/learner.cc:576: \n",
      "Parameters: { \"max_dept\", \"silent\" } might not be used.\n",
      "\n",
      "  This could be a false alarm, with some parameters getting used by language bindings but\n",
      "  then being mistakenly passed down to XGBoost core, or some parameter actually being used\n",
      "  but getting flagged wrongly here. Please open an issue if you find any such cases.\n",
      "\n",
      "\n",
      "[19:26:23] WARNING: C:/Users/Administrator/workspace/xgboost-win64_release_1.5.0/src/learner.cc:1115: Starting in XGBoost 1.3.0, the default evaluation metric used with the objective 'multi:softprob' was changed from 'merror' to 'mlogloss'. Explicitly set eval_metric if you'd like to restore the old behavior.\n"
     ]
    },
    {
     "data": {
      "text/plain": [
       "0.903273370687113"
      ]
     },
     "execution_count": 84,
     "metadata": {},
     "output_type": "execute_result"
    }
   ],
   "source": [
    "minority_class = np.argmin(y_train.value_counts())\n",
    "minority_idx = y_train[y_train == minority_class].index\n",
    "\n",
    "X = X_train.copy()\n",
    "X = X.loc[minority_idx]\n",
    "y = y_train.loc[minority_idx]\n",
    "\n",
    "X_train_rand = X_train.copy()\n",
    "y_train_rand = y_train.copy()\n",
    "\n",
    "for prob_slice in important_slices:\n",
    "    column_name = prob_slice[0][0][0]\n",
    "    key = column_name\n",
    "\n",
    "    is_categorical = '_' in column_name\n",
    "\n",
    "    if is_categorical:\n",
    "        column_value = 1\n",
    "        \n",
    "        N = len(X[X[column_name] == column_value]) // 2\n",
    "        rand = X[X[column_name] == column_value].sample(n=N)\n",
    "        rand_y = y_train.loc[rand.index]\n",
    "        \n",
    "        X_train_rand = X_train_rand.append(rand)\n",
    "        y_train_rand = y_train_rand.append(rand_y)\n",
    "    else:\n",
    "        prob_feat = prob_slice\n",
    "        column_from_val, column_to_val = prob_slice[0][0][1]\n",
    "        \n",
    "        N = len(X[X[column_name].between(column_from_val, column_to_val)]) // 2\n",
    "        rand = X[X[column_name].between(column_from_val, column_to_val)].sample(n=N)\n",
    "        rand_y = y_train.loc[rand.index]\n",
    "        \n",
    "        X_train_rand = X_train_rand.append(rand)\n",
    "        y_train_rand = y_train_rand.append(rand_y)\n",
    "\n",
    "dtrain = xgb.DMatrix(X_train_rand, label=y_train_rand)\n",
    "dtest = xgb.DMatrix(X_test)\n",
    "\n",
    "watchlist = [(dtrain, 'train'),(dtest, 'val')]\n",
    "\n",
    "#Train the model\n",
    "params = {\n",
    "    'objective':'multi:softprob',\n",
    "#     'objective':'multi:mlogloss',\n",
    "    'max_dept':4,\n",
    "    'silent':1,\n",
    "    'eta':0.3,\n",
    "    'gamma': 0,\n",
    "    'num_class': 2\n",
    "}\n",
    "num_rounds=20\n",
    "\n",
    "XGB_Model = xgb.train(params,dtrain,num_rounds)\n",
    "\n",
    "XGB_Model.dump_model('dump.rawBank.txt')\n",
    "\n",
    "y_predict_test = XGB_Model.predict(dtest)\n",
    "\n",
    "y_predict_assignment = np.argmax(y_predict_test, 1).reshape([-1,1])\n",
    "test_acc_reg_rand = np.sum(y_predict_assignment == np.array(y_test)) / len(y_predict_test)\n",
    "test_acc_reg_rand"
   ]
  },
  {
   "cell_type": "code",
   "execution_count": 85,
   "metadata": {},
   "outputs": [],
   "source": [
    "y_pred_test = np.argmax(y_predict_test, 1)\n",
    "\n",
    "f1s_test_rand = {}\n",
    "for i, sl in enumerate(prob_slices):\n",
    "    sl_name = sl[0][0][0]\n",
    "    dif, f1 = compare_f1(df_x_test, df_y_test, y_pred_test , sl[0])\n",
    "    if i == 0:        \n",
    "        f1s_test_rand['total_acc'] = test_acc_reg_rand\n",
    "        f1s_test_rand['total'] = f1 + dif\n",
    "    f1s_test_rand[sl_name] = f1"
   ]
  },
  {
   "cell_type": "markdown",
   "metadata": {},
   "source": [
    "## Conclusion from attempted improvements"
   ]
  },
  {
   "cell_type": "code",
   "execution_count": 86,
   "metadata": {},
   "outputs": [],
   "source": [
    "f1s_df = pd.DataFrame()\n",
    "f1s_df['slice'] = f1s_val.keys()\n",
    "f1s_df['validation_f1'] = f1s_val.values()\n",
    "f1s_df['test_f1'] = f1s_test.values()\n",
    "f1s_df['test_f1_rand'] = f1s_test_rand.values()\n",
    "f1s_df['test_f1_synthetic'] = f1s_test_with_synth.values()"
   ]
  },
  {
   "cell_type": "code",
   "execution_count": 87,
   "metadata": {},
   "outputs": [
    {
     "name": "stdout",
     "output_type": "stream",
     "text": [
      "The model with our modifications improved the xgboost model accuracy by -0.19168386906517343 percent\n"
     ]
    }
   ],
   "source": [
    "print(f'The model with our modifications improved the xgboost model accuracy by {(test_acc_synth - test_acc_reg)* 100} percent')"
   ]
  },
  {
   "cell_type": "code",
   "execution_count": 88,
   "metadata": {
    "scrolled": false
   },
   "outputs": [
    {
     "data": {
      "text/html": [
       "<div>\n",
       "<style scoped>\n",
       "    .dataframe tbody tr th:only-of-type {\n",
       "        vertical-align: middle;\n",
       "    }\n",
       "\n",
       "    .dataframe tbody tr th {\n",
       "        vertical-align: top;\n",
       "    }\n",
       "\n",
       "    .dataframe thead th {\n",
       "        text-align: right;\n",
       "    }\n",
       "</style>\n",
       "<table border=\"1\" class=\"dataframe\">\n",
       "  <thead>\n",
       "    <tr style=\"text-align: right;\">\n",
       "      <th></th>\n",
       "      <th>slice</th>\n",
       "      <th>validation_f1</th>\n",
       "      <th>test_f1</th>\n",
       "      <th>test_f1_rand</th>\n",
       "      <th>test_f1_synthetic</th>\n",
       "    </tr>\n",
       "  </thead>\n",
       "  <tbody>\n",
       "    <tr>\n",
       "      <th>0</th>\n",
       "      <td>total_acc</td>\n",
       "      <td>0.903863</td>\n",
       "      <td>0.904600</td>\n",
       "      <td>0.903273</td>\n",
       "      <td>0.902684</td>\n",
       "    </tr>\n",
       "    <tr>\n",
       "      <th>1</th>\n",
       "      <td>total</td>\n",
       "      <td>0.511244</td>\n",
       "      <td>0.498838</td>\n",
       "      <td>0.496933</td>\n",
       "      <td>0.507463</td>\n",
       "    </tr>\n",
       "    <tr>\n",
       "      <th>2</th>\n",
       "      <td>age</td>\n",
       "      <td>0.447368</td>\n",
       "      <td>0.418919</td>\n",
       "      <td>0.394737</td>\n",
       "      <td>0.397436</td>\n",
       "    </tr>\n",
       "    <tr>\n",
       "      <th>3</th>\n",
       "      <td>balance</td>\n",
       "      <td>0.462500</td>\n",
       "      <td>0.530387</td>\n",
       "      <td>0.516129</td>\n",
       "      <td>0.518135</td>\n",
       "    </tr>\n",
       "    <tr>\n",
       "      <th>4</th>\n",
       "      <td>day</td>\n",
       "      <td>0.452632</td>\n",
       "      <td>0.405229</td>\n",
       "      <td>0.407643</td>\n",
       "      <td>0.482759</td>\n",
       "    </tr>\n",
       "    <tr>\n",
       "      <th>5</th>\n",
       "      <td>previous</td>\n",
       "      <td>0.484390</td>\n",
       "      <td>0.456338</td>\n",
       "      <td>0.465930</td>\n",
       "      <td>0.473351</td>\n",
       "    </tr>\n",
       "    <tr>\n",
       "      <th>6</th>\n",
       "      <td>job_admin.</td>\n",
       "      <td>0.487179</td>\n",
       "      <td>0.521739</td>\n",
       "      <td>0.545455</td>\n",
       "      <td>0.532468</td>\n",
       "    </tr>\n",
       "    <tr>\n",
       "      <th>7</th>\n",
       "      <td>job_management</td>\n",
       "      <td>0.464646</td>\n",
       "      <td>0.503185</td>\n",
       "      <td>0.503106</td>\n",
       "      <td>0.504559</td>\n",
       "    </tr>\n",
       "    <tr>\n",
       "      <th>8</th>\n",
       "      <td>job_services</td>\n",
       "      <td>0.490196</td>\n",
       "      <td>0.477273</td>\n",
       "      <td>0.430108</td>\n",
       "      <td>0.468085</td>\n",
       "    </tr>\n",
       "    <tr>\n",
       "      <th>9</th>\n",
       "      <td>education_tertiary</td>\n",
       "      <td>0.485944</td>\n",
       "      <td>0.519751</td>\n",
       "      <td>0.523139</td>\n",
       "      <td>0.506122</td>\n",
       "    </tr>\n",
       "    <tr>\n",
       "      <th>10</th>\n",
       "      <td>housing_yes</td>\n",
       "      <td>0.447489</td>\n",
       "      <td>0.425339</td>\n",
       "      <td>0.429864</td>\n",
       "      <td>0.428571</td>\n",
       "    </tr>\n",
       "    <tr>\n",
       "      <th>11</th>\n",
       "      <td>loan_yes</td>\n",
       "      <td>0.429907</td>\n",
       "      <td>0.486486</td>\n",
       "      <td>0.477064</td>\n",
       "      <td>0.438596</td>\n",
       "    </tr>\n",
       "    <tr>\n",
       "      <th>12</th>\n",
       "      <td>contact_unknown</td>\n",
       "      <td>0.378788</td>\n",
       "      <td>0.410714</td>\n",
       "      <td>0.377358</td>\n",
       "      <td>0.369748</td>\n",
       "    </tr>\n",
       "    <tr>\n",
       "      <th>13</th>\n",
       "      <td>month_feb</td>\n",
       "      <td>0.442308</td>\n",
       "      <td>0.470588</td>\n",
       "      <td>0.471698</td>\n",
       "      <td>0.454545</td>\n",
       "    </tr>\n",
       "    <tr>\n",
       "      <th>14</th>\n",
       "      <td>month_jul</td>\n",
       "      <td>0.397163</td>\n",
       "      <td>0.502994</td>\n",
       "      <td>0.491018</td>\n",
       "      <td>0.550562</td>\n",
       "    </tr>\n",
       "    <tr>\n",
       "      <th>15</th>\n",
       "      <td>month_nov</td>\n",
       "      <td>0.414634</td>\n",
       "      <td>0.409091</td>\n",
       "      <td>0.494382</td>\n",
       "      <td>0.489796</td>\n",
       "    </tr>\n",
       "    <tr>\n",
       "      <th>16</th>\n",
       "      <td>poutcome_failure</td>\n",
       "      <td>0.428571</td>\n",
       "      <td>0.394558</td>\n",
       "      <td>0.325926</td>\n",
       "      <td>0.379747</td>\n",
       "    </tr>\n",
       "    <tr>\n",
       "      <th>17</th>\n",
       "      <td>poutcome_other</td>\n",
       "      <td>0.410256</td>\n",
       "      <td>0.426230</td>\n",
       "      <td>0.428571</td>\n",
       "      <td>0.451613</td>\n",
       "    </tr>\n",
       "    <tr>\n",
       "      <th>18</th>\n",
       "      <td>poutcome_unknown</td>\n",
       "      <td>0.438596</td>\n",
       "      <td>0.403553</td>\n",
       "      <td>0.418605</td>\n",
       "      <td>0.430472</td>\n",
       "    </tr>\n",
       "  </tbody>\n",
       "</table>\n",
       "</div>"
      ],
      "text/plain": [
       "                 slice  validation_f1   test_f1  test_f1_rand  \\\n",
       "0            total_acc       0.903863  0.904600      0.903273   \n",
       "1                total       0.511244  0.498838      0.496933   \n",
       "2                  age       0.447368  0.418919      0.394737   \n",
       "3              balance       0.462500  0.530387      0.516129   \n",
       "4                  day       0.452632  0.405229      0.407643   \n",
       "5             previous       0.484390  0.456338      0.465930   \n",
       "6           job_admin.       0.487179  0.521739      0.545455   \n",
       "7       job_management       0.464646  0.503185      0.503106   \n",
       "8         job_services       0.490196  0.477273      0.430108   \n",
       "9   education_tertiary       0.485944  0.519751      0.523139   \n",
       "10         housing_yes       0.447489  0.425339      0.429864   \n",
       "11            loan_yes       0.429907  0.486486      0.477064   \n",
       "12     contact_unknown       0.378788  0.410714      0.377358   \n",
       "13           month_feb       0.442308  0.470588      0.471698   \n",
       "14           month_jul       0.397163  0.502994      0.491018   \n",
       "15           month_nov       0.414634  0.409091      0.494382   \n",
       "16    poutcome_failure       0.428571  0.394558      0.325926   \n",
       "17      poutcome_other       0.410256  0.426230      0.428571   \n",
       "18    poutcome_unknown       0.438596  0.403553      0.418605   \n",
       "\n",
       "    test_f1_synthetic  \n",
       "0            0.902684  \n",
       "1            0.507463  \n",
       "2            0.397436  \n",
       "3            0.518135  \n",
       "4            0.482759  \n",
       "5            0.473351  \n",
       "6            0.532468  \n",
       "7            0.504559  \n",
       "8            0.468085  \n",
       "9            0.506122  \n",
       "10           0.428571  \n",
       "11           0.438596  \n",
       "12           0.369748  \n",
       "13           0.454545  \n",
       "14           0.550562  \n",
       "15           0.489796  \n",
       "16           0.379747  \n",
       "17           0.451613  \n",
       "18           0.430472  "
      ]
     },
     "execution_count": 88,
     "metadata": {},
     "output_type": "execute_result"
    }
   ],
   "source": [
    "f1s_df"
   ]
  },
  {
   "cell_type": "code",
   "execution_count": 89,
   "metadata": {},
   "outputs": [
    {
     "data": {
      "text/plain": [
       "[[(['previous', [-0.0009, 2.0]],), 0.4843897824030275, 0.8358895705521472],\n",
       " [(['poutcome_unknown', 1],), 0.43859649122807015, 0.6871165644171779],\n",
       " [(['housing_yes', 1],), 0.4474885844748858, 0.37116564417177916],\n",
       " [(['education_tertiary', 1],), 0.48594377510040165, 0.39263803680981596],\n",
       " [(['job_management', 1],), 0.46464646464646464, 0.24386503067484663],\n",
       " [(['day', [17.0001, 21.0]],), 0.45263157894736844, 0.15950920245398773],\n",
       " [(['contact_unknown', 1],), 0.3787878787878788, 0.12576687116564417],\n",
       " [(['month_jul', 1],), 0.3971631205673759, 0.1303680981595092],\n",
       " [(['poutcome_failure', 1],), 0.4285714285714286, 0.13496932515337423],\n",
       " [(['age', [36.0001, 41.0]],), 0.4473684210526316, 0.12883435582822086]]"
      ]
     },
     "execution_count": 89,
     "metadata": {},
     "output_type": "execute_result"
    }
   ],
   "source": [
    "important_slices"
   ]
  }
 ],
 "metadata": {
  "kernelspec": {
   "display_name": "Python 3",
   "language": "python",
   "name": "python3"
  },
  "language_info": {
   "codemirror_mode": {
    "name": "ipython",
    "version": 3
   },
   "file_extension": ".py",
   "mimetype": "text/x-python",
   "name": "python",
   "nbconvert_exporter": "python",
   "pygments_lexer": "ipython3",
   "version": "3.8.6"
  }
 },
 "nbformat": 4,
 "nbformat_minor": 4
}
